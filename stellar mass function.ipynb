{
 "cells": [
  {
   "cell_type": "code",
   "execution_count": 1,
   "metadata": {},
   "outputs": [],
   "source": [
    "from astropy.table import Table, vstack\n",
    "from scipy.optimize import curve_fit\n",
    "import matplotlib.pyplot as plt\n",
    "import numpy as np\n",
    "import matplotlib \n",
    "from RegscorePy import *\n",
    "from collections import OrderedDict\n",
    "\n",
    "plt.rc('font', family='serif'), plt.rc('xtick', labelsize=20), plt.rc('ytick', labelsize=20)\n",
    "plt.rcParams['savefig.dpi'] = 300\n",
    "plt.rc('text',usetex=True)\n",
    "matplotlib.rcParams['xtick.direction'] = 'in'\n",
    "matplotlib.rcParams['ytick.direction'] = 'in'\n",
    "np.set_printoptions(precision=3)"
   ]
  },
  {
   "cell_type": "code",
   "execution_count": 2,
   "metadata": {},
   "outputs": [],
   "source": [
    "def combine_deep_smf(low_r,ssfq, affix,z):\n",
    "    smf1,count1 = np.load(path+'smf_'+low_r+'_COSMOS_deep_7.0_all_'+ssfq+'_'+z+affix+'.npy')\n",
    "    smf2,count2 = np.load(path+'smf_'+low_r+'_DEEP_deep_7.0_all_'+ssfq+'_'+z+affix+'.npy')\n",
    "    smf3,count3 = np.load(path+'smf_'+low_r+'_ELAIS_deep_7.0_all_'+ssfq+'_'+z+affix+'.npy')\n",
    "    smf4,count4 = np.load(path+'smf_'+low_r+'_XMM-LSS_deep_7.0_all_'+ssfq+'_'+z+affix+'.npy')\n",
    "    smf5,count5 = np.load(path+'smf_'+low_r+'_SXDS_uddd_7.0_all_'+ssfq+'_'+z+affix+'.npy')\n",
    "    return (smf1+smf2+smf3+smf4+smf5)/(count1+count2+count3+count4+count5)"
   ]
  },
  {
   "cell_type": "markdown",
   "metadata": {},
   "source": [
    "### Stellar Mass Function of Satellites"
   ]
  },
  {
   "cell_type": "code",
   "execution_count": 3,
   "metadata": {},
   "outputs": [],
   "source": [
    "# schecter function\n",
    "def schechter(m,phi,m_s,alpha_s):\n",
    "    m=10**(m-7)\n",
    "    return phi*(m/m_s)**(alpha_s+1)*np.exp(-((m/m_s)**2))\n",
    "\n",
    "# fitting schecter function\n",
    "def fit_schechter(xdata, ydata, ydata_err, start,end):\n",
    "    popt,pcov = curve_fit(schechter, xdata[start-1:end], ydata[start-1:end], sigma=ydata_err[start-1:end],p0=[1.645e+03,3.918e+03,-1.048])\n",
    "    \n",
    "    res = ydata - schechter(xdata, *popt)\n",
    "    chi2 = sum((res / ydata_err) ** 2)\n",
    "    return popt,pcov,chi2"
   ]
  },
  {
   "cell_type": "code",
   "execution_count": null,
   "metadata": {},
   "outputs": [],
   "source": [
    "plt.rc('font', family='serif'), plt.rc('xtick', labelsize=15), plt.rc('ytick', labelsize=15)\n",
    "fig, axs = plt.subplots(1, 3, sharex=True, sharey=True, figsize=(24,8))\n",
    "\n",
    "path = 'CUT_deep_catalogs/test_smf_results/test_smf_new_cat/'\n",
    "bin_edges = np.load(path+'bin_edges.npy')[:-1]\n",
    "\n",
    "z=0.4\n",
    "low_r='0.0'\n",
    "high_r='0.7'\n",
    "\n",
    "#load data\n",
    "all_total = np.load(path+'smf_'+low_r+'_'+high_r+'_7.0_all_all_'+str(z)+'_total.npy')\n",
    "all_bkg = np.load(path+'smf_'+low_r+'_'+high_r+'_7.0_all_all_'+str(z)+'_bkg.npy')\n",
    "all_sat = np.load(path+'smf_'+low_r+'_'+high_r+'_7.0_all_all_'+str(z)+'_sat.npy')\n",
    "all_cen = np.load(path+'smf_'+low_r+'_'+high_r+'_7.0_all_all_'+str(z)+'_cen.npy')\n",
    "\n",
    "sf_total = np.load(path+'smf_'+low_r+'_'+high_r+'_7.0_all_ssf_'+str(z)+'_total.npy')\n",
    "sf_bkg = np.load(path+'smf_'+low_r+'_'+high_r+'_7.0_all_ssf_'+str(z)+'_bkg.npy')\n",
    "sf_sat = np.load(path+'smf_'+low_r+'_'+high_r+'_7.0_all_ssf_'+str(z)+'_sat.npy')\n",
    "\n",
    "q_total = np.load(path+'smf_'+low_r+'_'+high_r+'_7.0_all_sq_'+str(z)+'_total.npy')\n",
    "q_bkg = np.load(path+'smf_'+low_r+'_'+high_r+'_7.0_all_sq_'+str(z)+'_bkg.npy')\n",
    "q_sat = np.load(path+'smf_'+low_r+'_'+high_r+'_7.0_all_sq_'+str(z)+'_sat.npy')\n",
    "\n",
    "axs[0].errorbar(bin_edges, all_cen[0]/all_cen[-1],yerr=0,fmt='-.g',label='cen')\n",
    "axs[1].errorbar(bin_edges, all_cen[0]/all_cen[-1],yerr=0,fmt='-.g',label='cen')\n",
    "axs[2].errorbar(bin_edges, all_cen[0]/all_cen[-1],yerr=0,fmt='-.g',label='cen')\n",
    "\n",
    "# all\n",
    "# error=0\n",
    "error = [(all_total[0]-all_total[1])/all_total[-1], (all_total[2]-all_total[0])/all_total[-1]]\n",
    "axs[0].errorbar(bin_edges, all_total[0]/all_total[-1],yerr=error,fmt='k',label='total')\n",
    "axs[0].errorbar(bin_edges, all_bkg[0]/all_bkg[-1],yerr=error,fmt='--k',label='bkg')\n",
    "axs[0].errorbar(bin_edges, all_sat[0]/all_sat[-1],yerr=error,fmt='-.k',label='sat')\n",
    "\n",
    "#sf\n",
    "# error_sf=0\n",
    "error_sf = [(sf_total[0]-sf_total[1])/sf_total[-1], (sf_total[2]-sf_total[0])/sf_total[-1]]\n",
    "axs[1].errorbar(bin_edges, sf_total[0]/sf_total[-1],yerr=error_sf,fmt='b')\n",
    "axs[1].errorbar(bin_edges, sf_bkg[0]/sf_bkg[-1],yerr=error_sf,fmt='--b')\n",
    "axs[1].errorbar(bin_edges, sf_sat[0]/sf_sat[-1],yerr=error_sf,fmt='-.b')\n",
    "\n",
    "#q\n",
    "# error_q=0\n",
    "error_q = [(q_total[0]-q_total[1])/q_total[-1], (q_total[2]-q_total[0])/q_total[-1]]\n",
    "axs[2].errorbar(bin_edges, q_total[0]/q_total[-1],yerr=error_q,fmt='r')\n",
    "axs[2].errorbar(bin_edges, q_bkg[0]/q_bkg[-1],yerr=error_q,fmt='--r')\n",
    "axs[2].errorbar(bin_edges, q_sat[0]/q_sat[-1],yerr=error_q,fmt='-.r')\n",
    "\n",
    "axs[0].set_yscale('log')\n",
    "axs[0].set_ylim([1e-4,2e2])\n",
    "axs[0].legend(fontsize=15)\n",
    "\n",
    "fig.subplots_adjust(hspace=0)\n",
    "fig.subplots_adjust(wspace=0)\n",
    "fig.add_subplot(111, frameon=False)\n",
    "plt.tick_params(labelcolor='none', top='off', bottom='off', left='off', right='off')\n",
    "plt.grid(False)\n",
    "plt.xlabel(r'$\\log(M/M_\\odot)$', fontsize=18)\n",
    "plt.ylabel(r'$\\Phi~ (\\mathrm{dex}^{-1} ~\\mathrm{Group}^{-1})$', fontsize=18)\n",
    "plt.savefig('figures/smf_total_bkg_sat_'+str(z)+'.png')\n",
    "plt.show()"
   ]
  },
  {
   "cell_type": "code",
   "execution_count": null,
   "metadata": {},
   "outputs": [],
   "source": []
  },
  {
   "cell_type": "code",
   "execution_count": null,
   "metadata": {},
   "outputs": [],
   "source": []
  },
  {
   "cell_type": "code",
   "execution_count": null,
   "metadata": {},
   "outputs": [],
   "source": []
  }
 ],
 "metadata": {
  "kernelspec": {
   "display_name": "Python 3",
   "language": "python",
   "name": "python3"
  },
  "language_info": {
   "codemirror_mode": {
    "name": "ipython",
    "version": 3
   },
   "file_extension": ".py",
   "mimetype": "text/x-python",
   "name": "python",
   "nbconvert_exporter": "python",
   "pygments_lexer": "ipython3",
   "version": "3.6.8"
  }
 },
 "nbformat": 4,
 "nbformat_minor": 4
}
