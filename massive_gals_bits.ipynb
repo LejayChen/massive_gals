{
 "cells": [
  {
   "cell_type": "code",
   "execution_count": 3,
   "metadata": {},
   "outputs": [],
   "source": [
    "from astropy.table import Table\n",
    "import matplotlib.pyplot as plt\n",
    "import numpy as np"
   ]
  },
  {
   "cell_type": "code",
   "execution_count": null,
   "metadata": {
    "collapsed": true
   },
   "outputs": [],
   "source": [
    "cat = Table.read('CUT_CLAUDS_HSC_VISTA_Ks23.3_PHYSPARAM_TM.fits')\n",
    "cat_gal = cat[cat['CLASS'] == 0]\n",
    "cat_gal = cat_gal[cat_gal['MASS_BEST']>7]"
   ]
  },
  {
   "cell_type": "markdown",
   "metadata": {},
   "source": [
    "## Total Satellite Mass Evolution"
   ]
  },
  {
   "cell_type": "code",
   "execution_count": null,
   "metadata": {
    "collapsed": true
   },
   "outputs": [],
   "source": [
    "total_mass_sat_log = open('total_mass_sat')\n",
    "z = []\n",
    "mass_sat= []\n",
    "mass_sat_sf = []\n",
    "mass_sat_q = []\n",
    "std_mass_sat = []\n",
    "std_mass_sat_sf = []\n",
    "std_mass_sat_q = []\n",
    "\n",
    "for line in total_mass_sat_log.readlines():\n",
    "    z.append(eval(line.split()[0]))\n",
    "    mass_sat.append(eval(line.split()[1]))\n",
    "    mass_sat_sf.append(eval(line.split()[2]))\n",
    "    mass_sat_q.append(eval(line.split()[3]))\n",
    "    std_mass_sat.append(eval(line.split()[4]))\n",
    "    std_mass_sat_sf.append(eval(line.split()[5]))\n",
    "    std_mass_sat_q.append(eval(line.split()[6]))\n",
    "\n",
    "z = np.array(z)\n",
    "mass_sat = np.array(mass_sat)\n",
    "mass_sat_sf = np.array(mass_sat_sf)\n",
    "mass_sat_q = np.array(mass_sat_q)\n",
    "std_mass_sat = np.array(std_mass_sat)\n",
    "std_mass_sat_sf = np.array(std_mass_sat_sf)\n",
    "std_mass_sat_q = np.array(std_mass_sat_q)"
   ]
  },
  {
   "cell_type": "code",
   "execution_count": null,
   "metadata": {
    "scrolled": false
   },
   "outputs": [],
   "source": [
    "fig = plt.figure(figsize=(12,9))\n",
    "plt.rc('font', family='serif'), plt.rc('xtick', labelsize=16), plt.rc('ytick', labelsize=16)\n",
    "\n",
    "plt.errorbar(z,mass_sat, yerr=std_mass_sat, fmt='.-k',markersize=16, capsize=3, elinewidth=1,label='total')\n",
    "plt.errorbar(z,mass_sat_sf, yerr=std_mass_sat_sf, fmt='.-b',markersize=16, capsize=3, elinewidth=1,label='star forming')\n",
    "plt.errorbar(z,mass_sat_q, yerr=std_mass_sat_q, fmt='.-r',markersize=16, capsize=3, elinewidth=1, label='quiescent')\n",
    "\n",
    "plt.xlabel('redshift z', fontsize=18)\n",
    "plt.ylabel(r'total sat mass ($10^8 M_\\odot$)', fontsize=18)\n",
    "plt.tick_params(axis='both',direction='in',which='major',length=8,top='on',right='on')\n",
    "plt.tick_params(axis='both',direction='in',which='minor',length=4,top='on',right='on')\n",
    "plt.legend(fontsize=20,frameon=False)\n",
    "plt.savefig('total_sat_mass_z.png')\n",
    "plt.show()"
   ]
  },
  {
   "cell_type": "code",
   "execution_count": null,
   "metadata": {
    "scrolled": true
   },
   "outputs": [],
   "source": [
    "cat_high_z = cat_gal[cat_gal['ZPHOT']>5]\n",
    "np.min(abs(cat_high_z['MASS_BEST']))"
   ]
  },
  {
   "cell_type": "markdown",
   "metadata": {},
   "source": [
    "## Uniformity of Blank Pointings"
   ]
  },
  {
   "cell_type": "code",
   "execution_count": null,
   "metadata": {
    "collapsed": true
   },
   "outputs": [],
   "source": [
    "from astropy.coordinates import SkyCoord, match_coordinates_sky\n",
    "from random import random\n",
    "import astropy.units as u\n",
    "from astropy.cosmology import Planck15, WMAP9"
   ]
  },
  {
   "cell_type": "code",
   "execution_count": null,
   "metadata": {},
   "outputs": [],
   "source": [
    "z = 1.1\n",
    "dis = WMAP9.angular_diameter_distance(z).value\n",
    "\n",
    "cat_massive_gal = cat_gal[cat_gal['MASS_BEST'] > 11.3]\n",
    "cat_massive_z_slice = cat_massive_gal[abs(cat_massive_gal['ZPHOT']-z)<0.1]\n",
    "cat_all_z_slice = cat_gal[abs(cat_gal['ZPHOT'] - z) < 0.1]\n",
    "\n",
    "cat_massive_z_slice['RA'].unit = u.deg\n",
    "cat_massive_z_slice['DEC'].unit = u.deg\n",
    "coord_massive_gal = SkyCoord.guess_from_table(cat_massive_z_slice)\n",
    "\n",
    "counts_var = []\n",
    "for i in range(0,1000):\n",
    "    rand_id = int(random()*len(cat_all_z_slice))\n",
    "    ra_rand = cat_all_z_slice[rand_id]['RA']\n",
    "    dec_rand = cat_all_z_slice[rand_id]['DEC']\n",
    "    idx, sep2d, dist3d = match_coordinates_sky(SkyCoord(ra_rand, dec_rand, unit=\"deg\"), coord_massive_gal, nthneighbor=1)\n",
    "    \n",
    "    if sep2d.degree > 1.5/dis/np.pi*180:\n",
    "        cat_neighbors_rand = cat_all_z_slice[(cat_all_z_slice['RA'] - ra_rand) ** 2 + (cat_all_z_slice['DEC'] - dec_rand) ** 2 < (0.5 / dis / np.pi * 180) ** 2]\n",
    "        mass_neighbors_rand = cat_neighbors_rand['MASS_BEST']\n",
    "        count_gal_rand, edges_rand = np.histogram(10**(mass_neighbors_rand - 11.3) , np.arange(0,1.01,0.1))\n",
    "        \n",
    "        counts_var.append(count_gal_rand)\n",
    "\n",
    "counts_var_all = np.vstack(counts_var)\n",
    "std = np.std(counts_var_all, axis=0)\n",
    "mean = np.mean(counts_var_all, axis=0)\n",
    "\n",
    "fig = plt.figure(figsize=(9,6))\n",
    "plt.errorbar(edges_rand[0:-1]+0.05,mean,yerr=std, fmt='.k', markersize=16, capsize=3, elinewidth=1)\n",
    "# plt.ylim([0,15])\n",
    "plt.xlabel(r'$M/10^{11.3}M_\\odot$', fontsize=15)\n",
    "plt.savefig('background.png')\n",
    "plt.show()"
   ]
  },
  {
   "cell_type": "code",
   "execution_count": null,
   "metadata": {
    "collapsed": true
   },
   "outputs": [],
   "source": [
    "from astropy.stats import bootstrap"
   ]
  },
  {
   "cell_type": "code",
   "execution_count": null,
   "metadata": {},
   "outputs": [],
   "source": [
    "z = 1.1\n",
    "dis = Planck15.angular_diameter_distance(z).value\n",
    "\n",
    "cat_massive_gal = cat_gal[cat_gal['MASS_BEST'] > 11.3]\n",
    "cat_massive_z_slice = cat_massive_gal[abs(cat_massive_gal['ZPHOT']-z)<0.1]\n",
    "cat_all_z_slice = cat_gal[abs(cat_gal['ZPHOT'] - z) < 0.1]\n",
    "\n",
    "cat_massive_z_slice['RA'].unit = u.deg\n",
    "cat_massive_z_slice['DEC'].unit = u.deg\n",
    "coord_massive_gal = SkyCoord.guess_from_table(cat_massive_z_slice)\n",
    "\n",
    "total_mass_neighbrs_rand = []\n",
    "for i in range(0,200):\n",
    "    rand_id = int(random()*len(cat_all_z_slice))\n",
    "    ra_rand = cat_all_z_slice[rand_id]['RA']\n",
    "    dec_rand = cat_all_z_slice[rand_id]['DEC']\n",
    "    idx, sep2d, dist3d = match_coordinates_sky(SkyCoord(ra_rand, dec_rand, unit=\"deg\"), coord_massive_gal, nthneighbor=1)\n",
    "    \n",
    "    if sep2d.degree > 3.0/dis/np.pi*180:\n",
    "        cat_neighbors_rand = cat_all_z_slice[(cat_all_z_slice['RA'] - ra_rand) ** 2 + (cat_all_z_slice['DEC'] - dec_rand) ** 2 < (0.5 / dis / np.pi * 180) ** 2]\n",
    "        if np.sum(10**(cat_neighbors_rand[cat_neighbors_rand['MASS_BEST']>10]['MASS_BEST']-8))==0: continue\n",
    "        total_mass_neighbrs_rand.append(np.sum(10**(cat_neighbors_rand[cat_neighbors_rand['MASS_BEST']>10]['MASS_BEST']-8)))\n",
    "\n",
    "total_mass_neighbrs_rand = np.array(total_mass_neighbrs_rand)\n",
    "print(np.mean(total_mass_neighbrs_rand), np.std(total_mass_neighbrs_rand))\n",
    "bootresult = bootstrap(total_mass_neighbrs_rand,100,bootfunc=np.mean)\n",
    "plt.hist(bootresult)\n",
    "print(np.mean(bootresult), np.std(bootresult))\n",
    "\n",
    "fig = plt.figure(figsize=(9,6))\n",
    "plt.hist(total_mass_neighbrs_rand)\n",
    "plt.xlabel(r'Total Mass in the field $(10^8 M_\\odot)$',fontsize=16)\n",
    "plt.savefig('background_mass.png')\n",
    "plt.show()"
   ]
  },
  {
   "cell_type": "markdown",
   "metadata": {},
   "source": [
    "## massive gal distribution (completeness plot)"
   ]
  },
  {
   "cell_type": "code",
   "execution_count": null,
   "metadata": {
    "collapsed": true
   },
   "outputs": [],
   "source": [
    "# mass completeness limit at different redshift bins\n",
    "\n",
    "m_min_list = []\n",
    "for z in np.arange(1,30)/10.:\n",
    "    cat_all_z_slice = cat_gal[abs(cat_gal['ZPHOT']-z)<0.1]\n",
    "    cat_all_z_slice.sort('Ks')\n",
    "    cat_all_z_slice = cat_all_z_slice[0:int(0.2*len(cat_all_z_slice))]\n",
    "    \n",
    "    m_min_gals = cat_all_z_slice['MASS_BEST']+0.4*(cat_all_z_slice['Ks']-23.3)\n",
    "    m_min_gals.sort()\n",
    "    m_min_z = m_min_gals[int(0.95*len(m_min_gals))]\n",
    "    \n",
    "    m_min_list.append(m_min_z)"
   ]
  },
  {
   "cell_type": "code",
   "execution_count": null,
   "metadata": {
    "scrolled": false
   },
   "outputs": [],
   "source": [
    "fig = plt.figure(figsize=(10,8))\n",
    "plt.plot(cat_gal[cat_gal['SSFR_BEST']>-11]['ZPHOT'],cat_gal[cat_gal['SSFR_BEST']>-11]['MASS_BEST'],'.b',markersize=3,alpha=0.5,label='SF')\n",
    "plt.plot(cat_gal[cat_gal['SSFR_BEST']<-11]['ZPHOT'],cat_gal[cat_gal['SSFR_BEST']<-11]['MASS_BEST'],'.r',markersize=3,alpha=0.5,label='Q')\n",
    "plt.plot(np.arange(1,30)/10., m_min_list,'-ok',markersize=10,markerfacecolor=\"None\")\n",
    "plt.ylim([6,13])\n",
    "plt.xlim([0,6.1])\n",
    "plt.xlabel('redshift z', fontsize=15)\n",
    "plt.ylabel(r'log(M/M$_\\odot$)', fontsize=15)\n",
    "plt.grid(True)\n",
    "plt.legend(fontsize=15,loc='lower right')\n",
    "plt.savefig('completeness.png')\n",
    "plt.show()"
   ]
  },
  {
   "cell_type": "markdown",
   "metadata": {},
   "source": [
    "## angular separation"
   ]
  },
  {
   "cell_type": "code",
   "execution_count": null,
   "metadata": {
    "collapsed": true
   },
   "outputs": [],
   "source": [
    "from astropy.coordinates import SkyCoord\n",
    "from astropy import units as u"
   ]
  },
  {
   "cell_type": "code",
   "execution_count": null,
   "metadata": {
    "collapsed": true
   },
   "outputs": [],
   "source": [
    "def spherical_separation(ra1, dec1, ra2, dec2):\n",
    "    '''ra1,dec1 can be array or scalar. ra2,dec2 are scalars'''\n",
    "    ra1 = ra1/180.*np.pi\n",
    "    ra2 = ra2/180.*np.pi\n",
    "    dec1 = dec1/180.*np.pi\n",
    "    dec2 = dec2/180.*np.pi\n",
    "    return np.arccos(np.sin(dec1)*np.sin(dec2)+np.cos(dec1)*np.cos(dec2)*np.cos(ra1-ra2))/np.pi*180\n",
    "\n",
    "def separation(ra1, dec1, ra2, dec2):\n",
    "    '''ra1,dec1 can be array or scalar. ra2,dec2 are scalars'''\n",
    "    return np.sqrt((ra1-ra2)**2+(dec1-dec2)**2)"
   ]
  },
  {
   "cell_type": "code",
   "execution_count": null,
   "metadata": {
    "collapsed": true
   },
   "outputs": [],
   "source": [
    "ra1 = cat_gal['RA']\n",
    "dec1 = cat_gal['DEC']\n",
    "ra2 = cat_gal[122]['RA']\n",
    "dec2 = cat_gal[122]['DEC']\n",
    "# print(ra1, dec1, ra2, dec2)\n",
    "# print(spherical_separation(ra1, dec1, ra2, dec2))\n",
    "# print(separation(ra1, dec1, ra2, dec2))\n",
    "\n",
    "c1 = SkyCoord(ra1*u.deg,dec1*u.deg)\n",
    "c2 = SkyCoord(ra2*u.deg,dec2*u.deg)"
   ]
  },
  {
   "cell_type": "markdown",
   "metadata": {},
   "source": [
    "## physical search radius"
   ]
  },
  {
   "cell_type": "code",
   "execution_count": 6,
   "metadata": {},
   "outputs": [],
   "source": [
    "from astropy.cosmology import Planck15, WMAP9"
   ]
  },
  {
   "cell_type": "code",
   "execution_count": null,
   "metadata": {},
   "outputs": [],
   "source": [
    "z=0.3\n",
    "dis = WMAP9.angular_diameter_distance(z).value\n",
    "print(dis)\n",
    "0.5/dis/np.pi*180"
   ]
  },
  {
   "cell_type": "markdown",
   "metadata": {
    "collapsed": true
   },
   "source": [
    "## Volumne Density Matching\n",
    "for massive central gals"
   ]
  },
  {
   "cell_type": "code",
   "execution_count": null,
   "metadata": {},
   "outputs": [],
   "source": [
    "from astropy.coordinates import SkyCoord\n",
    "import astropy.units as u\n",
    "from astropy.stats import bootstrap\n",
    "\n",
    "m_median = np.array([])\n",
    "m_16 = np.array([])\n",
    "m_84 = np.array([])\n",
    "m_low = np.array([])\n",
    "m_total = np.array([])\n",
    "m_mean = np.array([])\n",
    "m_mean_error = np.array([])\n",
    "gal_sf = []  # SF galaxy number density\n",
    "gal_q = []  # Q galaxy number density\n",
    "\n",
    "for z in np.arange(0.3, 2.0, 0.1):\n",
    "    dis_l = WMAP9.comoving_distance(z-0.1).value\n",
    "    dis_h = WMAP9.comoving_distance(z+0.1).value\n",
    "    \n",
    "    total_v = 4./3*np.pi*(dis_h**3 - dis_l**3) # Mpc^3\n",
    "    survey_v = total_v * 4 / 41253.05  #Mpc^3\n",
    "    density = 0.00003 # Mpc^-3\n",
    "    num = int(density*survey_v)  # surface densisty propto dis**2\n",
    "    \n",
    "    cat_gal_z_slice = cat_gal[abs(cat_gal['ZPHOT']-z)<0.1]\n",
    "    cat_gal_z_slice.sort('MASS_BEST')\n",
    "    cat_gal_z_slice.reverse()\n",
    "    cat_massive_gal_z = cat_gal_z_slice[:num]\n",
    "    gal_sf.append(len(cat_massive_gal_z[cat_massive_gal_z['SSFR_BEST']>-11])/survey_v)  # number density of sf gals in this bin\n",
    "    gal_q.append(len(cat_massive_gal_z[cat_massive_gal_z['SSFR_BEST']<-11])/survey_v)  # number density of q gals in this bin\n",
    "    \n",
    "    for gal in cat_massive_gal_z:\n",
    "        coord_gal_z_slice = SkyCoord(cat_gal_z_slice['RA'] * u.deg, cat_gal_z_slice['DEC'] * u.deg)\n",
    "        coord_gal = SkyCoord(gal['RA'] * u.deg, gal['DEC'] * u.deg)\n",
    "        cat_neighbors = cat_gal_z_slice[coord_gal_z_slice.separation(coord_gal).degree < 0.5/dis/np.pi*180]\n",
    "        cat_neighbors = cat_neighbors[cat_neighbors['ID'] != gal['ID']]  # exclude central gal itself\n",
    "        \n",
    "        if len(cat_neighbors) == 0:  # exlucde central gals which has no companion\n",
    "            cat_massive_gal_z = cat_massive_gal_z[cat_massive_gal_z['ID'] != gal['ID']]\n",
    "            continue\n",
    "        if gal['MASS_BEST'] < max(cat_neighbors['MASS_BEST']):  # exclude central gals which has larger mass companion\n",
    "            cat_massive_gal_z = cat_massive_gal_z[cat_massive_gal_z['ID'] != gal['ID']]\n",
    "    \n",
    "    print(z, cat_gal_z_slice[num]['MASS_BEST'], num)\n",
    "    m_median = np.append(m_median,10**(np.median(cat_massive_gal_z['MASS_BEST'])-10))\n",
    "    m_16 = np.append(m_16,10**(np.percentile(cat_massive_gal_z['MASS_BEST'],16)-10))\n",
    "    m_84 = np.append(m_84,10**(np.percentile(cat_massive_gal_z['MASS_BEST'],84)-10))\n",
    "    m_low = np.append(m_low, 10**(cat_massive_gal_z['MASS_BEST'][-1]-10))\n",
    "    m_total = np.append(m_total, sum( 10**(cat_massive_gal_z['MASS_BEST'] - 10) ))\n",
    "    m_mean = np.append(m_mean, m_total[-1]/len(cat_massive_gal_z))\n",
    "    \n",
    "    bootsresult_m_mean = bootstrap(10**(cat_massive_gal_z['MASS_BEST']-10), 20, bootfunc=np.mean)\n",
    "    m_mean_error = np.append(m_mean_error, np.std(bootsresult_m_mean))\n",
    "print(m_mean)\n",
    "print(m_mean_error)"
   ]
  },
  {
   "cell_type": "code",
   "execution_count": null,
   "metadata": {},
   "outputs": [],
   "source": [
    "z=0.4\n",
    "fig = plt.figure(figsize=(9,9))\n",
    "dis_l = WMAP9.comoving_distance(z-0.1).value\n",
    "dis_h = WMAP9.comoving_distance(z+0.1).value\n",
    "    \n",
    "total_v = 4./3*np.pi*(dis_h**3 - dis_l**3) # Mpc^3\n",
    "survey_v = total_v * 4 / 41253.05  #Mpc^3\n",
    "cat_gal_z_slice = cat_gal[abs(cat_gal['ZPHOT']-z)<0.1]\n",
    "cat_gal_z_slice.sort('MASS_BEST')\n",
    "cat_gal_z_slice.reverse()\n",
    "    \n",
    "density_list = []\n",
    "for mass in np.arange(10,12,0.1):\n",
    "    density = len(cat_gal_z_slice[cat_gal_z_slice['MASS_BEST']>mass])/survey_v\n",
    "    density_list.append(density)\n",
    "plt.plot(np.arange(10,12,0.1),density_list,label=str(round(z-0.1,1))+'<z<'+str(round(z+0.1,1)))\n",
    "\n",
    "for z in np.arange(0.75, 2.5, 0.5):\n",
    "    dis_l = WMAP9.comoving_distance(z-0.25).value\n",
    "    dis_h = WMAP9.comoving_distance(z+0.25).value\n",
    "    \n",
    "    total_v = 4./3*np.pi*(dis_h**3 - dis_l**3) # Mpc^3\n",
    "    survey_v = total_v * 4 / 41253.05  #Mpc^3\n",
    "    cat_gal_z_slice = cat_gal[abs(cat_gal['ZPHOT']-z)<0.25]\n",
    "    cat_gal_z_slice.sort('MASS_BEST')\n",
    "    cat_gal_z_slice.reverse()\n",
    "    \n",
    "    density_list = []\n",
    "    for mass in np.arange(10,12,0.1):\n",
    "        density = len(cat_gal_z_slice[cat_gal_z_slice['MASS_BEST']>mass])/survey_v\n",
    "        density_list.append(density)\n",
    "    \n",
    "    plt.plot(np.arange(10,12,0.1),density_list,label=str(round(z-0.25,1))+'<z<'+str(round(z+0.25,1)))\n",
    "\n",
    "plt.axhline(y=5e-6,linestyle='--',color='k')\n",
    "plt.yscale('log')\n",
    "plt.ylim([1e-6,1e-2])\n",
    "plt.xlim([10,11.9])\n",
    "plt.xlabel(r'log Mass M_$\\odot$',fontsize=14)\n",
    "plt.ylabel(r'Cumulative Number Density [kpc$^{-3}$]',fontsize=14)\n",
    "\n",
    "plt.legend(fontsize=14,frameon=False)\n",
    "plt.savefig('cumulative_density.png')\n",
    "plt.show()\n",
    "plt.close()"
   ]
  },
  {
   "cell_type": "markdown",
   "metadata": {},
   "source": [
    "## Number density evolution SF&Q"
   ]
  },
  {
   "cell_type": "code",
   "execution_count": null,
   "metadata": {},
   "outputs": [],
   "source": [
    "np.set_printoptions(precision=1)\n",
    "z_list = np.arange(3,20)/10.\n",
    "ind = z_list   # the x locations for the groups\n",
    "width = 0.06      # the width of the bars: can also be len(x) sequence\n",
    "\n",
    "fig = plt.figure(figsize=(12,10))\n",
    "p1 = plt.bar(ind, np.array(gal_sf)*1e5, width,color='b')\n",
    "p2 = plt.bar(ind, np.array(gal_q)*1e5, width,bottom=np.array(gal_sf)*1e5,color='r')\n",
    "\n",
    "plt.ylabel('Number Density [1e-5 Mpc-3]',fontsize=16)\n",
    "plt.xlabel('z',fontsize=16)\n",
    "plt.xticks(ind, np.arange(3,20)/10.)\n",
    "# plt.yticks(np.arange(0, 81, 10))\n",
    "plt.legend((p1[0], p2[0]), ('SF', 'Q'),fontsize=16,loc='lower right')\n",
    "plt.savefig('number_density_sfq.png')\n",
    "plt.show()"
   ]
  },
  {
   "cell_type": "code",
   "execution_count": null,
   "metadata": {
    "collapsed": true
   },
   "outputs": [],
   "source": []
  },
  {
   "cell_type": "markdown",
   "metadata": {},
   "source": [
    "## cumulative massive gals number counts"
   ]
  },
  {
   "cell_type": "code",
   "execution_count": null,
   "metadata": {
    "scrolled": false
   },
   "outputs": [],
   "source": [
    "fig = plt.figure(figsize=(9,9))\n",
    "\n",
    "massive_gal_counts_112 = []\n",
    "massive_gal_counts_113 = []\n",
    "massive_gal_counts_vs = []\n",
    "for z in np.arange(0.3, 2.0, 0.2):\n",
    "    \n",
    "    # constant mass selection\n",
    "    cat_gal_z_slice = cat_gal[cat_gal['ZPHOT']>0.2]\n",
    "    cat_gal_z_slice = cat_gal_z_slice[cat_gal_z_slice['ZPHOT']<z]\n",
    "    cat_gal_massive_z = cat_gal_z_slice[cat_gal_z_slice['MASS_BEST']>11.3]\n",
    "    massive_gal_counts_113.append(len(cat_gal_massive_z))\n",
    "    cat_gal_massive_z = cat_gal_z_slice[cat_gal_z_slice['MASS_BEST']>11.2]\n",
    "    massive_gal_counts_112.append(len(cat_gal_massive_z))\n",
    "    \n",
    "    # constant volume density selection\n",
    "    dis_l = WMAP9.comoving_distance(z-0.1).value\n",
    "    dis_h = WMAP9.comoving_distance(z+0.1).value\n",
    "    total_v = 4./3*np.pi*(dis_h**3 - dis_l**3) # Mpc^3\n",
    "    survey_v = total_v * 4 / 41253.05  #Mpc^3\n",
    "    density = 0.00003 # Mpc^-3\n",
    "    num = int(density*survey_v)  # surface densisty propto dis**2\n",
    "    \n",
    "    cat_gal_z_slice_vs = cat_gal[abs(cat_gal['ZPHOT']-z)<0.1]\n",
    "    cat_gal_z_slice_vs.sort('MASS_BEST')\n",
    "    cat_gal_z_slice_vs.reverse()\n",
    "    cat_massive_gal_z_vs = cat_gal_z_slice_vs[:num]\n",
    "    if z>0.31:\n",
    "        massive_gal_counts_vs.append(massive_gal_counts_vs[-1]+len(cat_massive_gal_z_vs)) # vs = volume selected\n",
    "    else:\n",
    "        massive_gal_counts_vs.append(len(cat_massive_gal_z_vs))\n",
    "\n",
    "plt.plot(np.arange(0.3, 2.0, 0.2),massive_gal_counts_112,'.-',label='ms at M=11.2')\n",
    "plt.plot(np.arange(0.3, 2.0, 0.2),massive_gal_counts_113,'.-',label='ms at M=11.3')\n",
    "plt.plot(np.arange(0.3, 2.0, 0.2)+0.1,massive_gal_counts_vs,'.-',label='vs at n=3e-5')\n",
    "plt.xlabel('Redshift',fontsize=15)\n",
    "plt.ylabel('cumulative counts of massive gals', fontsize=15)\n",
    "plt.legend(fontsize=15)\n",
    "plt.savefig('nz.png')\n",
    "plt.show()"
   ]
  },
  {
   "cell_type": "markdown",
   "metadata": {},
   "source": [
    "## Pair Fraction\n",
    "galaxies with at least one companinon more massive than its 1/10 mass"
   ]
  },
  {
   "cell_type": "code",
   "execution_count": null,
   "metadata": {},
   "outputs": [],
   "source": [
    "fig = plt.figure(figsize=(10,8))\n",
    "plt.show()"
   ]
  },
  {
   "cell_type": "markdown",
   "metadata": {},
   "source": [
    "### Mass Growth Plot"
   ]
  },
  {
   "cell_type": "code",
   "execution_count": null,
   "metadata": {
    "collapsed": true
   },
   "outputs": [],
   "source": [
    "mass_growth_mean_k = open('mass_growth_k').readlines()\n",
    "mass_growth_mean_j = open('mass_growth_j').readlines()"
   ]
  },
  {
   "cell_type": "code",
   "execution_count": null,
   "metadata": {},
   "outputs": [],
   "source": [
    "z_list = np.arange(0.3, 2.0, 0.1)\n",
    "\n",
    "fig = plt.figure(figsize=(10,8))\n",
    "plt.plot(z_list,m_median,'.-r',markersize=10,label='Median')\n",
    "plt.plot(z_list,m_16,'-r',alpha=0.2)\n",
    "plt.plot(z_list,m_84,'-r',alpha=0.2)\n",
    "plt.plot(z_list,m_low,'.-b',markersize=10,label='Lowest')\n",
    "plt.errorbar(z_list,m_mean,yerr=m_mean_error,fmt='.-g', markersize=10,ecolor='y', label='Mean')\n",
    "\n",
    "for i in range(1,len(z_list)):\n",
    "    mass_growth = eval(mass_growth_mean_k[i])\n",
    "    original_mass = m_mean[i]\n",
    "    merged_mass = original_mass + mass_growth\n",
    "    plt.plot([z_list[i-1],z_list[i]],[merged_mass,original_mass],'--g',alpha=0.5)\n",
    "    plt.plot(z_list[i-1],merged_mass,'*g',markersize=9,alpha=0.5,label='K08' if 'K08' \\\n",
    "            not in plt.gca().get_legend_handles_labels()[1] else '')\n",
    "    \n",
    "    mass_growth = eval(mass_growth_mean_j[i])\n",
    "    original_mass = m_mean[i]\n",
    "    merged_mass = original_mass + mass_growth\n",
    "    plt.plot([z_list[i-1],z_list[i]],[merged_mass,original_mass],'-.g',alpha=0.5)\n",
    "    plt.plot(z_list[i-1],merged_mass,'sg',markersize=6,alpha=0.5,label='J08' if 'J08' \\\n",
    "            not in plt.gca().get_legend_handles_labels()[1] else '')\n",
    "\n",
    "plt.xlabel('Redshift',fontsize=15)\n",
    "plt.ylabel(r'(M / 10$^{10}$ M$_\\odot$)',fontsize=15)\n",
    "plt.legend(fontsize=15)\n",
    "plt.savefig('mass=_growth.png')\n",
    "plt.show()"
   ]
  },
  {
   "cell_type": "markdown",
   "metadata": {},
   "source": [
    "## Test Plot"
   ]
  },
  {
   "cell_type": "code",
   "execution_count": 4,
   "metadata": {},
   "outputs": [
    {
     "data": {
      "image/png": "[encoded data removed]",
      "text/plain": [
       "<Figure size 432x288 with 1 Axes>"
      ]
     },
     "metadata": {},
     "output_type": "display_data"
    }
   ],
   "source": [
    "for i in range(10):\n",
    "    plt.plot(i,i**2,'o',markersize=15)\n",
    "    \n",
    "plt.show()"
   ]
  },
  {
   "cell_type": "code",
   "execution_count": 9,
   "metadata": {},
   "outputs": [
    {
     "data": {
      "image/png": "[encoded data removed]",
      "text/plain": [
       "<Figure size 720x576 with 1 Axes>"
      ]
     },
     "metadata": {},
     "output_type": "display_data"
    }
   ],
   "source": [
    "t = []\n",
    "for z in np.arange(0,3,0.01):\n",
    "    t.append(WMAP9.lookback_time(z).value)\n",
    "\n",
    "fig = plt.figure(figsize=(10,8))    \n",
    "plt.plot(np.arange(0,3,0.01),t, label='WMAP9')\n",
    "plt.xlabel('z',fontsize=16)\n",
    "plt.ylabel('lookback time [Gyr]',fontsize=16)\n",
    "plt.legend(fontsize=16)\n",
    "plt.grid()\n",
    "plt.savefig('figures/time_z.png',dpi=150)\n",
    "plt.show()"
   ]
  },
  {
   "cell_type": "markdown",
   "metadata": {
    "collapsed": true
   },
   "source": [
    "## Companion Radial Distribution"
   ]
  },
  {
   "cell_type": "code",
   "execution_count": null,
   "metadata": {},
   "outputs": [],
   "source": [
    "mode = 'count'\n",
    "radial_total = np.load('count.npy')\n",
    "radial_total_err = np.load('count_err.npy')\n",
    "radial_sf = np.load('count_sf.npy')\n",
    "radial_q = np.load('count_q.npy')\n",
    "radial_q_err = np.load('count_q_err.npy')\n",
    "radial_sf_err = np.load('count_sf_err.npy')\n",
    "bin_edges = np.load('bin_edges.npy')\n",
    "\n",
    "fig = plt.figure(figsize=(9, 8))\n",
    "plt.rc('font', family='serif'), plt.rc('xtick', labelsize=15), plt.rc('ytick', labelsize=15)\n",
    "plt.errorbar(bin_edges[:-1], radial_total, fmt='.-k', yerr=radial_total_err,label='total')\n",
    "plt.errorbar(bin_edges[:-1], radial_sf, fmt='.-b', yerr=radial_sf_err,label='sf')\n",
    "plt.errorbar(bin_edges[:-1], radial_q, fmt='.-r', yerr=radial_q_err,label='q')\n",
    "plt.xscale('log')\n",
    "plt.yscale('log')\n",
    "plt.legend(fontsize=14)\n",
    "plt.xlabel('Projected Radius [kpc]', fontsize=14)\n",
    "if mode == 'mass':\n",
    "    plt.ylabel(r'M/10$^{10}$M$_\\odot$ kpc$^{-2}$ UMG$^{-1}$ dr', fontsize=14)\n",
    "    plt.savefig('radial_mass_sfq.png')\n",
    "else:\n",
    "    plt.ylabel(r'N kpc$^{-2}$ UMG$^{-1}$ dr', fontsize=14)\n",
    "    plt.savefig('radial_count_sfq.png')\n",
    "\n",
    "plt.show()"
   ]
  },
  {
   "cell_type": "code",
   "execution_count": null,
   "metadata": {},
   "outputs": [],
   "source": [
    "# low/high mass cut at m = 10.1\n",
    "\n",
    "mode = 'count'\n",
    "radial_total = np.load('count.npy')\n",
    "radial_total_err = np.load('count_err.npy')\n",
    "radial_l = np.load('count_low.npy')\n",
    "radial_l_err = np.load('count_low_err.npy')\n",
    "radial_h_err = np.load('count_high_err.npy')\n",
    "radial_h = np.load('count_high.npy')          \n",
    "bin_edges = np.load('bin_edges.npy')\n",
    "\n",
    "fig = plt.figure(figsize=(9, 8))\n",
    "plt.rc('font', family='serif'), plt.rc('xtick', labelsize=15), plt.rc('ytick', labelsize=15)\n",
    "plt.errorbar(bin_edges[:-1], radial_total, fmt='.-k', yerr=radial_total_err,label='total')\n",
    "plt.errorbar(bin_edges[:-1], radial_l, fmt='.-g', yerr=radial_l_err,label='low mass')\n",
    "plt.errorbar(bin_edges[:-1], radial_h, fmt='.-m', yerr=radial_h_err,label='high mass')\n",
    "plt.plot(np.linspace(10,700,num=100),nfw2(np.linspace(10,700,num=100),260, 1.8e-5),'--',alpha=0.7)\n",
    "plt.xscale('log')\n",
    "plt.yscale('log')\n",
    "plt.legend(fontsize=14)\n",
    "plt.xlabel('Projected Radius [kpc]', fontsize=14)\n",
    "if mode == 'mass':\n",
    "    plt.ylabel(r'M/10$^{10}$M$_\\odot$ kpc$^{-2}$ UMG$^{-1}$ dr', fontsize=14)\n",
    "    plt.savefig('radial_mass_mass.png')\n",
    "else:\n",
    "    plt.ylabel(r'N kpc$^{-2}$ UMG$^{-1}$ dr', fontsize=14)\n",
    "    plt.savefig('radial_count_mass.png')\n",
    "plt.show()"
   ]
  },
  {
   "cell_type": "markdown",
   "metadata": {},
   "source": [
    "## Mass Density Radial Distribution"
   ]
  },
  {
   "cell_type": "code",
   "execution_count": null,
   "metadata": {},
   "outputs": [],
   "source": [
    "radial_mass = np.load('mass0.6.npy') #882\n",
    "radial_mass_err = np.load('mass0.6_err.npy')   \n",
    "radial_mass2 = np.load('mass0.6_mass_0.1.npy') #611\n",
    "radial_mass2_err = np.load('mass0.6_mass_0.1_err.npy')   \n",
    "radial_mass3 = np.load('mass0.06.npy') #339\n",
    "radial_mass3_err = np.load('mass0.06_err.npy')   \n",
    "radial_mass4 = np.load('mass0.04.npy') #223\n",
    "radial_mass4_err = np.load('mass0.04_err.npy')   \n",
    "bin_edges = np.load('bin_edges.npy')\n",
    "\n",
    "popt,pcov = curve_fit(nfw2, bin_edges[2:-1], radial_mass[2:],p0=[160,5e-5],bounds=[(0,0),(500,5e-3)])\n",
    "\n",
    "fig = plt.figure(figsize=(9, 8))\n",
    "plt.rc('font', family='serif'), plt.rc('xtick', labelsize=15), plt.rc('ytick', labelsize=15)\n",
    "plt.errorbar(bin_edges[:-1], radial_mass, fmt='o-k', yerr=radial_mass_err,label='bin size 0.15')\n",
    "plt.errorbar(bin_edges[:-1], radial_mass2, fmt='o-b', yerr=radial_mass2_err,label='bin size 0.1')\n",
    "plt.errorbar(bin_edges[:-1], radial_mass3, fmt='o-m', yerr=radial_mass3_err,label='bin size 0.06')\n",
    "plt.errorbar(bin_edges[:-1], radial_mass4, fmt='o-g', yerr=radial_mass4_err,label='bin size 0.04')\n",
    "plt.plot(np.linspace(10,700,num=100),nfw2(np.linspace(10,500,num=100),popt[0], popt[1]),'--k',alpha=0.7,label='NFW fit')\n",
    "plt.xscale('log')\n",
    "plt.yscale('log')\n",
    "plt.legend(fontsize=14)\n",
    "plt.xlabel('Projected Radius [kpc]', fontsize=14)\n",
    "plt.ylabel(r'M/10$^{10}$M$_\\odot$ kpc$^{-2}$ UMG$^{-1}$ dr', fontsize=14)\n",
    "plt.savefig('radial_mass_binsize.png')\n",
    "\n",
    "plt.show()"
   ]
  },
  {
   "cell_type": "code",
   "execution_count": null,
   "metadata": {},
   "outputs": [],
   "source": [
    "mode = 'mass'\n",
    "radial_mass = np.load('mass0.3.npy') #882\n",
    "radial_mass_err = np.load('mass0.3_err.npy')   \n",
    "radial_mass2 = np.load('mass0.6.npy') #611\n",
    "radial_mass2_err = np.load('mass0.6_err.npy')\n",
    "radial_mass3 = np.load('mass1.2.npy') #611\n",
    "radial_mass3_err = np.load('mass1.2_err.npy')  \n",
    "radial_mass4 = np.load('mass1.5.npy') #611\n",
    "radial_mass4_err = np.load('mass1.5_err.npy')  \n",
    "bin_edges = np.load('bin_edges.npy')\n",
    "\n",
    "popt,pcov = curve_fit(nfw2, bin_edges[1:-1], radial_mass2[1:],sigma=radial_mass2_err[1:], \n",
    "                      p0=[200,4e-5],bounds=[(0,0),(500,5e-3)], method='trf')\n",
    "print(popt)\n",
    "\n",
    "fig = plt.figure(figsize=(9, 8))\n",
    "plt.rc('font', family='serif'), plt.rc('xtick', labelsize=15), plt.rc('ytick', labelsize=15)\n",
    "plt.errorbar(bin_edges[:-1], radial_mass, fmt='.-k', yerr=radial_mass_err,label='0.3')\n",
    "plt.errorbar(bin_edges[:-1], radial_mass2, fmt='.-b', yerr=radial_mass2_err,label='0.6')\n",
    "plt.errorbar(bin_edges[:-1], radial_mass3, fmt='.-m', yerr=radial_mass3_err,label='1.2')\n",
    "plt.errorbar(bin_edges[:-1], radial_mass4, fmt='.-g', yerr=radial_mass4_err,label='1.5')\n",
    "plt.plot(np.linspace(10,700,num=100),nfw2(np.linspace(10,500,num=100),popt[0],popt[1]),'--g',alpha=0.7,label='NFW fit')\n",
    "plt.xscale('log')\n",
    "plt.yscale('log')\n",
    "plt.legend(fontsize=14)\n",
    "plt.xlabel('Projected Radius [kpc]', fontsize=14)\n",
    "plt.ylabel(r'M/10$^{10}$M$_\\odot$ kpc$^{-2}$ UMG$^{-1}$ dr', fontsize=14)\n",
    "plt.savefig('radial_mass_redshift.png')\n",
    "\n",
    "plt.show()"
   ]
  },
  {
   "cell_type": "markdown",
   "metadata": {},
   "source": [
    "## varying some selection parameters"
   ]
  },
  {
   "cell_type": "code",
   "execution_count": null,
   "metadata": {},
   "outputs": [],
   "source": [
    "radial_1 = np.load('count0.3.npy')  \n",
    "radial_1_err = np.load('count0.3_err.npy')\n",
    "radial_2 = np.load('count0.6.npy')  \n",
    "radial_2_err = np.load('count0.6_err.npy')\n",
    "radial_3 = np.load('count1.2.npy')  \n",
    "radial_3_err = np.load('count1.2_err.npy')\n",
    "radial_4 = np.load('count1.5.npy')  \n",
    "radial_4_err = np.load('count1.5_err.npy')\n",
    "bin_edges = np.load('bin_edges.npy')\n",
    "\n",
    "fig = plt.figure(figsize=(9, 8))\n",
    "plt.rc('font', family='serif'), plt.rc('xtick', labelsize=15), plt.rc('ytick', labelsize=15)\n",
    "plt.errorbar(bin_edges[:-1], radial_1, fmt='.-k', yerr=radial_1_err,label='z=0.3')\n",
    "plt.errorbar(bin_edges[:-1], radial_2, fmt='.-g', yerr=radial_2_err,label='z=0.6')\n",
    "plt.errorbar(bin_edges[:-1], radial_3, fmt='.-m', yerr=radial_3_err,label='z=1.2')\n",
    "plt.errorbar(bin_edges[:-1], radial_4, fmt='.-r', yerr=radial_4_err,label='z=1.5')\n",
    "plt.xscale('log')\n",
    "plt.yscale('log')\n",
    "plt.legend(fontsize=14)\n",
    "plt.xlabel('Projected Radius [kpc]', fontsize=14)\n",
    "plt.ylabel(r'N kpc$^{-2}$ UMG$^{-1}$ dr', fontsize=14)\n",
    "plt.savefig('radial_count_redshift.png')\n",
    "plt.show()"
   ]
  },
  {
   "cell_type": "code",
   "execution_count": null,
   "metadata": {
    "scrolled": false
   },
   "outputs": [],
   "source": [
    "radial_1 = np.load('count_bin0.1.npy')  \n",
    "radial_1_err = np.load('count_bin0.1_err.npy')\n",
    "radial_2 = np.load('count0.6.npy')  \n",
    "radial_2_err = np.load('count0.6_err.npy')\n",
    "radial_3 = np.load('count_bin0.18.npy')  \n",
    "radial_3_err = np.load('count_bin0.18_err.npy')\n",
    "bin_edges = np.load('bin_edges.npy')\n",
    "\n",
    "fig = plt.figure(figsize=(9, 8))\n",
    "plt.rc('font', family='serif'), plt.rc('xtick', labelsize=15), plt.rc('ytick', labelsize=15)\n",
    "plt.errorbar(bin_edges[:-1], radial_1, fmt='.-k', yerr=radial_1_err,label='11.0')\n",
    "plt.errorbar(bin_edges[:-1], radial_2, fmt='.-g', yerr=radial_2_err,label='11.05')\n",
    "plt.errorbar(bin_edges[:-1], radial_3, fmt='.-m', yerr=radial_3_err,label='11.1')\n",
    "plt.xscale('log')\n",
    "plt.yscale('log')\n",
    "plt.legend(fontsize=14)\n",
    "plt.xlabel('Projected Radius [kpc]', fontsize=14)\n",
    "plt.ylabel(r'N kpc$^{-2}$ UMG$^{-1}$ dr', fontsize=14)\n",
    "plt.savefig('radial_count_masscut.png')\n",
    "plt.show()"
   ]
  },
  {
   "cell_type": "code",
   "execution_count": null,
   "metadata": {},
   "outputs": [],
   "source": [
    "radial_1 = np.load('count_cut11.npy')  \n",
    "radial_1_err = np.load('count_cut11_err.npy')\n",
    "radial_2 = np.load('count_cut11.1.npy')  \n",
    "radial_2_err = np.load('count_cut11.1_err.npy')\n",
    "radial_3 = np.load('count_cut11.2.npy')  \n",
    "radial_3_err = np.load('count_cut11.2_err.npy')\n",
    "radial_4 = np.load('count_cut11.3.npy')  \n",
    "radial_4_err = np.load('count_cut11.3_err.npy')\n",
    "bin_edges = np.load('bin_edges.npy')\n",
    "\n",
    "fig = plt.figure(figsize=(9, 8))\n",
    "plt.rc('font', family='serif'), plt.rc('xtick', labelsize=15), plt.rc('ytick', labelsize=15)\n",
    "plt.errorbar(bin_edges[:-1], radial_1, fmt='.-k', yerr=radial_1_err,label='11.0')\n",
    "plt.errorbar(bin_edges[:-1], radial_2, fmt='.-g', yerr=radial_2_err,label='11.1')\n",
    "plt.errorbar(bin_edges[:-1], radial_3, fmt='.-m', yerr=radial_3_err,label='11.2') #400\n",
    "plt.errorbar(bin_edges[:-1], radial_4, fmt='.-r', yerr=radial_4_err,label='11.3') #213\n",
    "plt.xscale('log')\n",
    "plt.yscale('log')\n",
    "plt.legend(fontsize=14)\n",
    "plt.xlabel('Projected Radius [kpc]', fontsize=14)\n",
    "plt.ylabel(r'N kpc$^{-2}$ UMG$^{-1}$ dr', fontsize=14)\n",
    "plt.savefig('radial_count_masscut2.png')\n",
    "plt.show()"
   ]
  },
  {
   "cell_type": "code",
   "execution_count": null,
   "metadata": {},
   "outputs": [],
   "source": [
    "radial_1 = np.load('count_bin0.06.npy')  \n",
    "radial_1_err = np.load('count_bin0.06_err.npy')\n",
    "radial_2 = np.load('count_bin0.1.npy')  \n",
    "radial_2_err = np.load('count_bin0.1_err.npy')\n",
    "radial_3 = np.load('count0.6.npy')  \n",
    "radial_3_err = np.load('count0.6_err.npy')\n",
    "radial_4 = np.load('count_bin0.2.npy')  \n",
    "radial_4_err = np.load('countbin0.2_err.npy')\n",
    "bin_edges = np.load('bin_edges.npy')\n",
    "\n",
    "fig = plt.figure(figsize=(9, 8))\n",
    "plt.rc('font', family='serif'), plt.rc('xtick', labelsize=15), plt.rc('ytick', labelsize=15)\n",
    "plt.errorbar(bin_edges[:-1], radial_1, fmt='.-', yerr=radial_1_err,label='0.06')\n",
    "plt.errorbar(bin_edges[:-1], radial_2, fmt='.-', yerr=radial_2_err,label='0.1')\n",
    "plt.errorbar(bin_edges[:-1], radial_3, fmt='.-', yerr=radial_3_err,label='0.15')\n",
    "plt.errorbar(bin_edges[:-1], radial_4, fmt='.-', yerr=radial_4_err,label='0.2')\n",
    "plt.xscale('log')\n",
    "plt.yscale('log')\n",
    "plt.legend(fontsize=14)\n",
    "plt.xlabel('Projected Radius [kpc]', fontsize=14)\n",
    "plt.ylabel(r'N kpc$^{-2}$ UMG$^{-1}$ dr', fontsize=14)\n",
    "plt.savefig('radial_count_binsize.png')\n",
    "plt.show()"
   ]
  },
  {
   "cell_type": "code",
   "execution_count": null,
   "metadata": {
    "collapsed": true
   },
   "outputs": [],
   "source": [
    "import seaborn as sns\n",
    "sns.set_palette(\"husl\")"
   ]
  },
  {
   "cell_type": "code",
   "execution_count": null,
   "metadata": {
    "collapsed": true
   },
   "outputs": [],
   "source": []
  },
  {
   "cell_type": "markdown",
   "metadata": {},
   "source": [
    "## NFW fit"
   ]
  },
  {
   "cell_type": "code",
   "execution_count": null,
   "metadata": {
    "collapsed": true
   },
   "outputs": [],
   "source": [
    "from scipy.optimize import curve_fit"
   ]
  },
  {
   "cell_type": "code",
   "execution_count": null,
   "metadata": {
    "collapsed": true
   },
   "outputs": [],
   "source": [
    "def nfw(r,rs,n):\n",
    "    x = r / float(rs)\n",
    "    if x<1:\n",
    "        return n*(x**2-1)**(-1)*(1-2/np.sqrt(1-x**2)*np.arctanh(np.sqrt((1-x)/(1+x))))\n",
    "    elif x ==1:\n",
    "        return n*1./3\n",
    "    else:\n",
    "        return n*(x**2-1)**(-1)*(1-2/np.sqrt(x**2-1)*np.arctan(np.sqrt((x-1)/(1+x))))"
   ]
  },
  {
   "cell_type": "code",
   "execution_count": null,
   "metadata": {
    "collapsed": true
   },
   "outputs": [],
   "source": [
    "def nfw2(r, rs, n):\n",
    "    x = r / float(rs)\n",
    "    y = np.piecewise(x, [x < 1, x==1, x > 1],\n",
    "                     [lambda x:n*(x**2-1)**(-1)*(1-2/np.sqrt(1-x**2)*np.arctanh(np.sqrt((1-x)/(1+x)))), \n",
    "                      lambda x:n*1./3, \n",
    "                      lambda x:n*(x**2-1)**(-1)*(1-2/np.sqrt(x**2-1)*np.arctan(np.sqrt((x-1)/(1+x))))])\n",
    "    return y"
   ]
  },
  {
   "cell_type": "code",
   "execution_count": null,
   "metadata": {
    "scrolled": true
   },
   "outputs": [],
   "source": [
    "r = np.linspace(10,700,100)\n",
    "n = []\n",
    "\n",
    "for d in r:\n",
    "    n.append(nfw2(d,160,1e-4))\n",
    "\n",
    "plt.plot(r,n)\n",
    "plt.xscale('log')\n",
    "plt.yscale('log') \n",
    "plt.show()"
   ]
  },
  {
   "cell_type": "code",
   "execution_count": null,
   "metadata": {},
   "outputs": [],
   "source": [
    "plt.plot(bin_edges[3:-1], radial_total[3:])\n",
    "plt.xscale('log')\n",
    "plt.yscale('log')\n",
    "plt.show()"
   ]
  },
  {
   "cell_type": "code",
   "execution_count": null,
   "metadata": {},
   "outputs": [],
   "source": [
    "popt,pcov = curve_fit(nfw2, bin_edges[3:-1], radial_total[3:],p0=[160,5e-5],bounds=[(0,0),(500,5e-3)])\n",
    "print(popt)\n",
    "\n",
    "pcov"
   ]
  },
  {
   "cell_type": "code",
   "execution_count": null,
   "metadata": {
    "collapsed": true
   },
   "outputs": [],
   "source": []
  }
 ],
 "metadata": {
  "kernelspec": {
   "display_name": "Python 3",
   "language": "python",
   "name": "python3"
  },
  "language_info": {
   "codemirror_mode": {
    "name": "ipython",
    "version": 3
   },
   "file_extension": ".py",
   "mimetype": "text/x-python",
   "name": "python",
   "nbconvert_exporter": "python",
   "pygments_lexer": "ipython3",
   "version": "3.6.5"
  }
 },
 "nbformat": 4,
 "nbformat_minor": 2
}
