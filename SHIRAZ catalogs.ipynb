{
 "cells": [
  {
   "cell_type": "code",
   "execution_count": 1,
   "metadata": {},
   "outputs": [
    {
     "name": "stderr",
     "output_type": "stream",
     "text": [
      "WARNING: AstropyDeprecationWarning: astropy.extern.six will be removed in 4.0, use the six module directly if it is still needed [astropy.extern.six]\n"
     ]
    }
   ],
   "source": [
    "import matplotlib.pyplot as plt\n",
    "import matplotlib as mpl\n",
    "import numpy as np\n",
    "import regions\n",
    "from astropy.table import *\n",
    "from tqdm import tqdm\n",
    "from astropy.coordinates import SkyCoord\n",
    "import astropy.units as u\n",
    "from astropy.wcs import WCS"
   ]
  },
  {
   "cell_type": "code",
   "execution_count": 2,
   "metadata": {},
   "outputs": [],
   "source": [
    "import matplotlib\n",
    "\n",
    "plt.rc('font', family='serif'), plt.rc('xtick', labelsize=18), plt.rc('ytick', labelsize=18)\n",
    "plt.rcParams['savefig.dpi'] = 300\n",
    "plt.rc('text',usetex=True)\n",
    "matplotlib.rcParams['xtick.direction'] = 'in'\n",
    "matplotlib.rcParams['ytick.direction'] = 'in'\n",
    "np.set_printoptions(precision=3)"
   ]
  },
  {
   "cell_type": "markdown",
   "metadata": {},
   "source": [
    "### load tables"
   ]
  },
  {
   "cell_type": "code",
   "execution_count": 4,
   "metadata": {},
   "outputs": [],
   "source": [
    "cat = Table.read('/Volumes/LejaySSD/SHIRAZ_catalogs/DEEP23_CH1_newfluxes_errmod.cat',format='ascii')"
   ]
  },
  {
   "cell_type": "code",
   "execution_count": 5,
   "metadata": {},
   "outputs": [
    {
     "data": {
      "text/plain": [
       "<Table length=434226>\n",
       "     name       dtype \n",
       "-------------- -------\n",
       "        NUMBER   int64\n",
       "     FLUX_APER float64\n",
       "   FLUX_APER_1 float64\n",
       "   FLUX_APER_2 float64\n",
       "   FLUX_APER_3 float64\n",
       "   FLUX_APER_4 float64\n",
       "   FLUX_APER_5 float64\n",
       "   FLUX_APER_6 float64\n",
       "   FLUX_APER_7 float64\n",
       "  FLUXERR_APER float64\n",
       "FLUXERR_APER_1 float64\n",
       "FLUXERR_APER_2 float64\n",
       "FLUXERR_APER_3 float64\n",
       "FLUXERR_APER_4 float64\n",
       "FLUXERR_APER_5 float64\n",
       "FLUXERR_APER_6 float64\n",
       "FLUXERR_APER_7 float64\n",
       "      MAG_APER float64\n",
       "    MAG_APER_1 float64\n",
       "    MAG_APER_2 float64\n",
       "    MAG_APER_3 float64\n",
       "    MAG_APER_4 float64\n",
       "    MAG_APER_5 float64\n",
       "    MAG_APER_6 float64\n",
       "    MAG_APER_7 float64\n",
       "   MAGERR_APER float64\n",
       " MAGERR_APER_1 float64\n",
       " MAGERR_APER_2 float64\n",
       " MAGERR_APER_3 float64\n",
       " MAGERR_APER_4 float64\n",
       " MAGERR_APER_5 float64\n",
       " MAGERR_APER_6 float64\n",
       " MAGERR_APER_7 float64\n",
       "     FLUX_AUTO float64\n",
       "  FLUXERR_AUTO float64\n",
       "      MAG_AUTO float64\n",
       "   MAGERR_AUTO float64\n",
       "   KRON_RADIUS float64\n",
       "       X_IMAGE float64\n",
       "       Y_IMAGE float64\n",
       "   ALPHA_J2000 float64\n",
       "   DELTA_J2000 float64\n",
       "       A_IMAGE float64\n",
       "       B_IMAGE float64\n",
       "   THETA_WORLD float64\n",
       "        MU_MAX float64\n",
       "    FWHM_IMAGE float64\n",
       "   ELLIPTICITY float64\n",
       "    CLASS_STAR float64\n",
       "   FLUX_RADIUS float64"
      ]
     },
     "execution_count": 5,
     "metadata": {},
     "output_type": "execute_result"
    }
   ],
   "source": [
    "cat.info"
   ]
  },
  {
   "cell_type": "markdown",
   "metadata": {},
   "source": [
    "### match with Vincent's catalog"
   ]
  },
  {
   "cell_type": "code",
   "execution_count": null,
   "metadata": {},
   "outputs": [],
   "source": [
    "cat_shiraz_name =\n",
    "cat_v8_name = \n",
    "\n",
    "cmd = ''\n",
    "print(cmd)"
   ]
  },
  {
   "cell_type": "code",
   "execution_count": null,
   "metadata": {},
   "outputs": [],
   "source": []
  },
  {
   "cell_type": "markdown",
   "metadata": {},
   "source": [
    "### statistics"
   ]
  },
  {
   "cell_type": "code",
   "execution_count": null,
   "metadata": {},
   "outputs": [],
   "source": []
  },
  {
   "cell_type": "code",
   "execution_count": null,
   "metadata": {},
   "outputs": [],
   "source": []
  },
  {
   "cell_type": "markdown",
   "metadata": {},
   "source": [
    "### SF/Q plots"
   ]
  },
  {
   "cell_type": "code",
   "execution_count": null,
   "metadata": {},
   "outputs": [],
   "source": []
  }
 ],
 "metadata": {
  "kernelspec": {
   "display_name": "Python 3",
   "language": "python",
   "name": "python3"
  },
  "language_info": {
   "codemirror_mode": {
    "name": "ipython",
    "version": 3
   },
   "file_extension": ".py",
   "mimetype": "text/x-python",
   "name": "python",
   "nbconvert_exporter": "python",
   "pygments_lexer": "ipython3",
   "version": "3.6.8"
  }
 },
 "nbformat": 4,
 "nbformat_minor": 4
}
