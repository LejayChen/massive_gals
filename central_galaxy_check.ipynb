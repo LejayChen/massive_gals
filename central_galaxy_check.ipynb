{
 "cells": [
  {
   "cell_type": "code",
   "execution_count": 1,
   "metadata": {},
   "outputs": [],
   "source": [
    "from astropy.table import *\n",
    "import matplotlib.pyplot as plt\n",
    "import numpy as np\n",
    "from scipy.stats import binned_statistic\n",
    "from tqdm import tqdm\n",
    "import astropy.units as u\n",
    "from astropy.coordinates import SkyCoord, search_around_sky\n",
    "import os\n",
    "\n",
    "import matplotlib\n",
    "plt.rc('font', family='serif'), plt.rc('xtick', labelsize=21), plt.rc('ytick', labelsize=21)\n",
    "plt.rcParams['savefig.dpi'] = 300\n",
    "plt.rc('text',usetex=True)\n",
    "matplotlib.rcParams['xtick.direction'] = 'in'\n",
    "matplotlib.rcParams['ytick.direction'] = 'in'\n",
    "np.set_printoptions(precision=3)"
   ]
  },
  {
   "cell_type": "markdown",
   "metadata": {},
   "source": [
    "#### load in catalogs"
   ]
  },
  {
   "cell_type": "code",
   "execution_count": 2,
   "metadata": {},
   "outputs": [],
   "source": [
    "cat = Table.read('new_radial_dist_2023/central_cat/isolated_COSMOS_deep_3.0_11.3_0.4_massive.positions.fits')\n"
   ]
  },
  {
   "cell_type": "code",
   "execution_count": 3,
   "metadata": {},
   "outputs": [
    {
     "data": {
      "text/plain": [
       "<Table length=230>\n",
       "        name          dtype \n",
       "-------------------- -------\n",
       "                  ID   int64\n",
       "                  RA float64\n",
       "                 DEC float64\n",
       "    MASS_MED_massrun float64\n",
       "                Z_ML float64\n",
       "sfq_nuvrk_myrun_free float64\n",
       "               n_sat float64\n",
       "               n_bkg float64"
      ]
     },
     "execution_count": 3,
     "metadata": {},
     "output_type": "execute_result"
    }
   ],
   "source": [
    "cat.info"
   ]
  },
  {
   "cell_type": "markdown",
   "metadata": {},
   "source": [
    "#### statistics"
   ]
  },
  {
   "cell_type": "code",
   "execution_count": 7,
   "metadata": {},
   "outputs": [
    {
     "data": {
      "image/png": "[encoded data removed]",
      "text/plain": [
       "<Figure size 432x288 with 1 Axes>"
      ]
     },
     "metadata": {
      "needs_background": "light"
     },
     "output_type": "display_data"
    }
   ],
   "source": [
    "plt.hist(cat['Z_ML'],bins=20)\n",
    "plt.show()\n"
   ]
  },
  {
   "cell_type": "code",
   "execution_count": 6,
   "metadata": {},
   "outputs": [
    {
     "data": {
      "image/png": "[encoded data removed]",
      "text/plain": [
       "<Figure size 432x288 with 1 Axes>"
      ]
     },
     "metadata": {
      "needs_background": "light"
     },
     "output_type": "display_data"
    }
   ],
   "source": [
    "plt.hist(cat['MASS_MED_massrun'],bins=20)\n",
    "plt.show()\n"
   ]
  },
  {
   "cell_type": "code",
   "execution_count": 11,
   "metadata": {},
   "outputs": [
    {
     "name": "stdout",
     "output_type": "stream",
     "text": [
      "0.4 0.8\n",
      "0.6 0.691\n",
      "0.8 0.743\n",
      "1.0 0.556\n",
      "1.2 0.634\n",
      "1.4 0.42\n"
     ]
    }
   ],
   "source": [
    "# q-fraction as a funciton of redshift\n",
    "for z in [0.4,0.6,0.8,1.0,1.2,1.4]:\n",
    "    cat = Table.read('new_radial_dist_2023/central_cat/isolated_COSMOS_deep_3.0_11.3_'+str(z)+'_massive.positions.fits')\n",
    "    cat_q = cat[cat['sfq_nuvrk_myrun_free']==0]\n",
    "    print(z,round(len(cat_q)/len(cat),3))"
   ]
  },
  {
   "cell_type": "code",
   "execution_count": 4,
   "metadata": {},
   "outputs": [
    {
     "data": {
      "image/png": "[encoded data removed]",
      "text/plain": [
       "<Figure size 432x288 with 1 Axes>"
      ]
     },
     "metadata": {
      "needs_background": "light"
     },
     "output_type": "display_data"
    },
    {
     "data": {
      "image/png": "[encoded data removed]",
      "text/plain": [
       "<Figure size 432x288 with 1 Axes>"
      ]
     },
     "metadata": {
      "needs_background": "light"
     },
     "output_type": "display_data"
    }
   ],
   "source": [
    "cat = Table.read('new_radial_dist_2023/central_cat/isolated_COSMOS_deep_3.0_11.3_0.4_massive.positions.fits')\n",
    "\n",
    "# n_sat distribution\n",
    "plt.hist(cat['n_sat'],bins=15)\n",
    "plt.show()\n",
    "\n",
    "# n_bkg distribution\n",
    "plt.hist(cat['n_bkg'],bins=15)\n",
    "plt.show()\n"
   ]
  },
  {
   "cell_type": "code",
   "execution_count": 6,
   "metadata": {},
   "outputs": [
    {
     "data": {
      "text/plain": [
       "16.93548387096774"
      ]
     },
     "execution_count": 6,
     "metadata": {},
     "output_type": "execute_result"
    }
   ],
   "source": [
    "\n",
    "min(cat['n_bkg'])\n"
   ]
  },
  {
   "cell_type": "code",
   "execution_count": null,
   "metadata": {},
   "outputs": [],
   "source": []
  }
 ],
 "metadata": {
  "kernelspec": {
   "display_name": "Python 3",
   "language": "python",
   "name": "python3"
  },
  "language_info": {
   "codemirror_mode": {
    "name": "ipython",
    "version": 3
   },
   "file_extension": ".py",
   "mimetype": "text/x-python",
   "name": "python",
   "nbconvert_exporter": "python",
   "pygments_lexer": "ipython3",
   "version": "3.6.8"
  }
 },
 "nbformat": 4,
 "nbformat_minor": 4
}
