{
 "cells": [
  {
   "cell_type": "markdown",
   "metadata": {},
   "source": [
    "#### matched v9 and phorsphoros catalog"
   ]
  },
  {
   "cell_type": "code",
   "execution_count": 2,
   "metadata": {},
   "outputs": [],
   "source": [
    "from astropy.table import *\n",
    "import matplotlib.pyplot as plt\n",
    "import numpy as np"
   ]
  },
  {
   "cell_type": "code",
   "execution_count": 4,
   "metadata": {},
   "outputs": [],
   "source": [
    "dev_path = '/Users/lejay/research/lephare_dev/my_code/'\n",
    "output_dir = dev_path+'output_cats/'\n",
    "graham_output_dir = dev_path + 'graham_output_cats/'"
   ]
  },
  {
   "cell_type": "code",
   "execution_count": 14,
   "metadata": {},
   "outputs": [],
   "source": [
    "# add a column for redshift (pcat z if available otherwise my redshift)\n",
    "\n",
    "for cat_name in ['COSMOS_deep','DEEP_deep','ELAIS_deep']:\n",
    "    cat = Table.read(dev_path+cat_name+'_pcat_v9sfq_added.fits')\n",
    "    \n",
    "    zphot_g = cat['ZPHOT_G']\n",
    "    z_ml = cat['Z_ML']\n",
    "    zphot_flag = np.array(zphot_g>0).astype(int)\n",
    "    \n",
    "    zphot_g[np.isnan(zphot_g)]=0\n",
    "    z = z_ml * (1-zphot_flag) + zphot_g\n",
    "    \n",
    "    col_z = Column(name='Z_COM',data=z)\n",
    "    cat.add_column(col_z)\n",
    "    cat.write(dev_path+cat_name+'_pcat_v9sfq_added.fits', overwrite=True)"
   ]
  },
  {
   "cell_type": "markdown",
   "metadata": {},
   "source": [
    "### match"
   ]
  },
  {
   "cell_type": "code",
   "execution_count": null,
   "metadata": {},
   "outputs": [],
   "source": [
    "\n",
    "\n"
   ]
  }
 ],
 "metadata": {
  "kernelspec": {
   "display_name": "Python 3",
   "language": "python",
   "name": "python3"
  },
  "language_info": {
   "codemirror_mode": {
    "name": "ipython",
    "version": 3
   },
   "file_extension": ".py",
   "mimetype": "text/x-python",
   "name": "python",
   "nbconvert_exporter": "python",
   "pygments_lexer": "ipython3",
   "version": "3.6.8"
  }
 },
 "nbformat": 4,
 "nbformat_minor": 4
}
