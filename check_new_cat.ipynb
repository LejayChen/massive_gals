{
 "cells": [
  {
   "cell_type": "code",
   "execution_count": 547,
   "metadata": {},
   "outputs": [],
   "source": [
    "from astropy.table import Table, vstack, setdiff, unique\n",
    "from scipy.optimize import curve_fit\n",
    "import matplotlib.pyplot as plt\n",
    "import numpy as np\n",
    "import matplotlib \n",
    "from scipy.stats import gaussian_kde\n",
    "import seaborn as sns\n",
    "from scipy import stats\n",
    "import pandas as pd\n",
    "import glob\n",
    "\n",
    "plt.rc('font', family='serif'), plt.rc('xtick', labelsize=20), plt.rc('ytick', labelsize=20)\n",
    "plt.rcParams['savefig.dpi'] = 300\n",
    "plt.rc('text',usetex=True)\n",
    "matplotlib.rcParams['xtick.direction'] = 'in'\n",
    "matplotlib.rcParams['ytick.direction'] = 'in'\n",
    "np.set_printoptions(precision=3)"
   ]
  },
  {
   "cell_type": "code",
   "execution_count": 201,
   "metadata": {},
   "outputs": [],
   "source": [
    "def median(x,y,group_size=500):\n",
    "    array = np.transpose(np.vstack([x,y]))\n",
    "    array=array[array[:,0].argsort()]\n",
    "    index = 0\n",
    "\n",
    "    x_list = np.array([])\n",
    "    y_median_list = np.array([])\n",
    "    while index < len(cat) - group_size:\n",
    "        array_slice =array[index: index + group_size - 1]\n",
    "        x_median = np.median(array_slice[:,0])\n",
    "        y_median = np.median(array_slice[:,1])\n",
    "        index = index + group_size\n",
    "    \n",
    "        x_list = np.append(x_list,x_median)\n",
    "        y_median_list = np.append(y_median_list,y_median)\n",
    "\n",
    "    array_slice = array[index: -1]\n",
    "    x_median = np.median(array_slice[:,0])\n",
    "    y_median = np.median(array_slice[:,1] )\n",
    "\n",
    "    x_list = np.append(x_list,x_median)\n",
    "    y_median_list = np.append(y_median_list,y_median)\n",
    "    \n",
    "    return x_list,y_median_list"
   ]
  },
  {
   "cell_type": "markdown",
   "metadata": {},
   "source": [
    "### COSMOS2015 matched table"
   ]
  },
  {
   "cell_type": "code",
   "execution_count": 251,
   "metadata": {
    "scrolled": false
   },
   "outputs": [
    {
     "name": "stderr",
     "output_type": "stream",
     "text": [
      "WARNING: UnitsWarning: 'erg/cm2/s' contains multiple slashes, which is discouraged by the FITS standard [astropy.units.format.generic]\n"
     ]
    }
   ],
   "source": [
    "cat = Table.read('CUT_deep_catalogs/COSMOS2015_CLAUDS_matched.fits')\n",
    "# '_1' --old parameters\n",
    "# '_2' --new parameters\n",
    "# '' --COSMOS parameters"
   ]
  },
  {
   "cell_type": "code",
   "execution_count": 249,
   "metadata": {},
   "outputs": [
    {
     "name": "stderr",
     "output_type": "stream",
     "text": [
      "/Users/lejay/anaconda3/lib/python3.6/site-packages/numpy/core/fromnumeric.py:2957: RuntimeWarning: Mean of empty slice.\n",
      "  out=out, **kwargs)\n",
      "/Users/lejay/anaconda3/lib/python3.6/site-packages/numpy/core/_methods.py:80: RuntimeWarning: invalid value encountered in double_scalars\n",
      "  ret = ret.dtype.type(ret / rcount)\n"
     ]
    },
    {
     "name": "stdout",
     "output_type": "stream",
     "text": [
      "[-0.007  0.019  0.003 -0.002 -0.024 -0.036 -0.052 -0.041 -0.066 -0.071\n",
      " -0.086 -0.084 -0.089 -0.088 -0.148    nan    nan    nan    nan    nan\n",
      "    nan    nan    nan    nan    nan    nan    nan    nan    nan    nan\n",
      "    nan    nan    nan    nan    nan    nan    nan    nan    nan    nan\n",
      "    nan    nan    nan    nan    nan    nan    nan    nan    nan    nan\n",
      "    nan    nan    nan    nan    nan    nan    nan    nan    nan    nan\n",
      "    nan    nan    nan    nan    nan    nan    nan    nan    nan    nan\n",
      "    nan    nan    nan    nan    nan    nan    nan    nan    nan    nan\n",
      "    nan    nan    nan    nan    nan    nan    nan    nan    nan    nan\n",
      "    nan    nan    nan    nan    nan    nan    nan]\n"
     ]
    },
    {
     "data": {
      "image/png": "[encoded data removed]",
      "text/plain": [
       "<Figure size 576x432 with 1 Axes>"
      ]
     },
     "metadata": {},
     "output_type": "display_data"
    }
   ],
   "source": [
    "# cat_cut = cat[np.logical_and(cat['CLASS_2']<10,abs(cat['zKDEPeak_1']-cat['Z_BEST_BC03'])<0.05*cat['Z_BEST_BC03'])] \n",
    "cat_cut = cat[np.logical_and(cat['CLASS_2']<10,abs(cat['Z_BEST_BC03']-0.8)<0.1)]\n",
    "# cat_cut = cat[np.logical_and(cat['preds_median_1']<0.89,abs(cat['zKDEPeak_1']-0.4)<0.1)]\n",
    "# cat_cut = cat_cut[cat_cut['sfProb_1']<0.5]\n",
    "\n",
    "fig, axs = plt.subplots(1, 1, sharex=True,sharey='row', figsize=(8, 6))\n",
    "x = np.array(cat_cut['MASS_MED'])\n",
    "y = np.array(cat_cut['MASS_MED_1']-cat_cut['MASS_MED_2'])\n",
    "\n",
    "y = y[np.logical_and(x>7,x<12)]\n",
    "x = x[np.logical_and(x>7,x<12)]\n",
    "\n",
    "x = x[np.logical_and(y>-3,y<3)]\n",
    "y = y[np.logical_and(y>-3,y<3)]\n",
    "x_list,y_median = median(x,y)\n",
    "\n",
    "# # plot\n",
    "plt.hist2d(x,y,bins=[100,100],cmin=0.1)\n",
    "plt.plot(x_list,y_median,'r')\n",
    "\n",
    "plt.xlim([7,12])\n",
    "plt.ylim([-1,1])\n",
    "plt.xlabel(r'$M_C$', fontsize=20)\n",
    "plt.ylabel(r'$M_A-M_T$', fontsize=20)\n",
    "plt.grid()\n",
    "# plt.show(); plt.close()\n",
    "print(y_median)\n"
   ]
  },
  {
   "cell_type": "markdown",
   "metadata": {},
   "source": [
    "### matched table in ELAIS"
   ]
  },
  {
   "cell_type": "code",
   "execution_count": 206,
   "metadata": {},
   "outputs": [],
   "source": [
    "cat = Table.read('CUT_deep_catalogs/s16a_DEEP_deep_masterCat_newz2.fits')"
   ]
  },
  {
   "cell_type": "code",
   "execution_count": 208,
   "metadata": {},
   "outputs": [
    {
     "name": "stderr",
     "output_type": "stream",
     "text": [
      "/Users/lejay/anaconda3/lib/python3.6/site-packages/astropy/table/column.py:965: RuntimeWarning: invalid value encountered in greater\n",
      "  return getattr(self.data, op)(other)\n",
      "/Users/lejay/anaconda3/lib/python3.6/site-packages/numpy/core/fromnumeric.py:2957: RuntimeWarning: Mean of empty slice.\n",
      "  out=out, **kwargs)\n",
      "/Users/lejay/anaconda3/lib/python3.6/site-packages/numpy/core/_methods.py:80: RuntimeWarning: invalid value encountered in double_scalars\n",
      "  ret = ret.dtype.type(ret / rcount)\n"
     ]
    },
    {
     "data": {
      "image/png": "[encoded data removed]",
      "text/plain": [
       "<Figure size 576x432 with 1 Axes>"
      ]
     },
     "metadata": {},
     "output_type": "display_data"
    }
   ],
   "source": [
    "# cat_cut = cat[np.logical_and(cat['CLASS']<10,abs(cat['zKDEPeak_old']-cat['Z_BEST_BC03'])<0.05*cat['Z_BEST_BC03'])] \n",
    "cat_cut = cat[np.logical_and(cat['CLASS']<10,abs(cat['Z_BEST_BC03']-0.6)<0.3)] \n",
    "cat_cut = cat_cut[cat_cut['sfProb']>0.5]\n",
    "\n",
    "fig, axs = plt.subplots(1, 1, sharex=True,sharey='row', figsize=(8, 6))\n",
    "x = np.array(cat_cut['MASS_MED_old'])\n",
    "y = np.array(cat_cut['MASS_MED']-cat_cut['MASS_MED_old'])\n",
    "\n",
    "y = y[np.logical_and(x>7,x<12)]\n",
    "x = x[np.logical_and(x>7,x<12)]\n",
    "\n",
    "x = x[np.logical_and(y>-3,y<3)]\n",
    "y = y[np.logical_and(y>-3,y<3)]\n",
    "x_list,y_median = median(x,y)\n",
    "\n",
    "# # plot\n",
    "plt.hist2d(x,y,bins=[100,100],cmin=0.1)\n",
    "plt.plot(x_list,y_median,'k')\n",
    "\n",
    "plt.xlim([7,12])\n",
    "plt.ylim([-1,3])\n",
    "plt.xlabel(r'$M_A$', fontsize=20)\n",
    "plt.ylabel(r'$M_T-M_A$', fontsize=20)\n",
    "plt.grid()\n",
    "# plt.show(); plt.close()"
   ]
  },
  {
   "cell_type": "markdown",
   "metadata": {},
   "source": [
    "### COSMOS2015 matched catalog (with all of Thibaud's objects)\n",
    "\n",
    "no parameters from Anneya's catalog are included"
   ]
  },
  {
   "cell_type": "code",
   "execution_count": 252,
   "metadata": {},
   "outputs": [
    {
     "name": "stderr",
     "output_type": "stream",
     "text": [
      "WARNING: UnitsWarning: 'erg/cm2/s' contains multiple slashes, which is discouraged by the FITS standard [astropy.units.format.generic]\n"
     ]
    }
   ],
   "source": [
    "cat = Table.read('CUT_deep_catalogs/matched_thibaud_COSMOS.fits')\n",
    "# '_1' --old parameters\n",
    "# '_2' --COSMOS parameters"
   ]
  },
  {
   "cell_type": "code",
   "execution_count": 262,
   "metadata": {},
   "outputs": [
    {
     "name": "stderr",
     "output_type": "stream",
     "text": [
      "/Users/lejay/anaconda3/lib/python3.6/site-packages/numpy/core/fromnumeric.py:2957: RuntimeWarning: Mean of empty slice.\n",
      "  out=out, **kwargs)\n",
      "/Users/lejay/anaconda3/lib/python3.6/site-packages/numpy/core/_methods.py:80: RuntimeWarning: invalid value encountered in double_scalars\n",
      "  ret = ret.dtype.type(ret / rcount)\n"
     ]
    },
    {
     "data": {
      "image/png": "[encoded data removed]",
      "text/plain": [
       "<Figure size 792x432 with 1 Axes>"
      ]
     },
     "metadata": {},
     "output_type": "display_data"
    }
   ],
   "source": [
    "cat_cut = cat[np.logical_and(cat['CLASS_1']<10,abs(cat['ZPDF']-cat['Z_BEST_BC03'])<0.05*cat['Z_BEST_BC03'])] \n",
    "\n",
    "# cat_cut = cat[np.logical_and(cat['CLASS']<10,abs(cat['Z_BEST_BC03']-0.6)<0.3)] \n",
    "cat_cut = cat_cut[cat_cut['SSFR_BEST_1']>-11]\n",
    "\n",
    "fig, axs = plt.subplots(1, 1, sharex=True,sharey='row', figsize=(11, 6))\n",
    "x = np.array(cat_cut['MASS_MED_1'])\n",
    "y = np.array(cat_cut['MASS_MED_1']-cat_cut['MASS_MED_2'])\n",
    "\n",
    "y = y[np.logical_and(x>7,x<12)]\n",
    "x = x[np.logical_and(x>7,x<12)]\n",
    "\n",
    "x = x[np.logical_and(y>-3,y<3)]\n",
    "y = y[np.logical_and(y>-3,y<3)]\n",
    "x_list,y_median = median(x,y)\n",
    "\n",
    "# # plot\n",
    "plt.hist2d(x,y,bins=[100,100],cmin=0.1)\n",
    "plt.plot(x_list,y_median,'r')\n",
    "\n",
    "plt.xlim([7,12])\n",
    "plt.ylim([-1.4,2.1])\n",
    "plt.xlabel(r'$M_T$', fontsize=20)\n",
    "plt.ylabel(r'$M_T-M_C$', fontsize=20)\n",
    "plt.grid()\n",
    "# plt.show(); plt.close()"
   ]
  },
  {
   "cell_type": "markdown",
   "metadata": {},
   "source": [
    "### both-central catalogs (match the central catalogs, using two both-massive cats and isolation criteria)\n",
    "save catalogs for massive centrals that satisfy both old (M>11.15, zcut) and new (M>11.35,zcut) selection criteria, and also pass the isolation criteria using corresponding selection criteria"
   ]
  },
  {
   "cell_type": "code",
   "execution_count": 601,
   "metadata": {},
   "outputs": [
    {
     "name": "stdout",
     "output_type": "stream",
     "text": [
      "COSMOS_deep 0.4\n",
      "67 8 6\n",
      "COSMOS_deep 0.6\n",
      "101 17 16\n",
      "COSMOS_deep 0.8\n",
      "121 29 37\n",
      "ELAIS_deep 0.4\n",
      "132 29 23\n",
      "ELAIS_deep 0.6\n",
      "122 22 29\n",
      "ELAIS_deep 0.8\n",
      "97 35 60\n",
      "DEEP_deep 0.4\n",
      "141 23 19\n",
      "DEEP_deep 0.6\n",
      "162 29 51\n",
      "DEEP_deep 0.8\n",
      "129 49 62\n",
      "XMM-LSS_deep 0.4\n",
      "99 18 13\n",
      "XMM-LSS_deep 0.6\n",
      "106 24 32\n",
      "XMM-LSS_deep 0.8\n",
      "115 40 38\n",
      "SXDS_uddd 0.4\n",
      "36 10 6\n",
      "SXDS_uddd 0.6\n",
      "53 9 7\n",
      "SXDS_uddd 0.8\n",
      "38 7 12\n"
     ]
    }
   ],
   "source": [
    "cat_names = ['COSMOS_deep','ELAIS_deep', 'DEEP_deep','XMM-LSS_deep','SXDS_uddd']\n",
    "for cat_name in cat_names:\n",
    "    for z in [0.4,0.6,0.8]:\n",
    "        print(cat_name,z)\n",
    "        cat_old = Table.read('CUT_deep_catalogs/massive_gal_matched_cat/isolated_'+cat_name+'_11.15_'+str(z)+'_params_old.positions.fits')\n",
    "        cat_new = Table.read('CUT_deep_catalogs/massive_gal_matched_cat/isolated_'+cat_name+'_11.35_'+str(z)+'_params_new.positions.fits')\n",
    "        cat3 = Table(names=cat_old.colnames, dtype=[str(y[0]) for x, y in cat_old.dtype.fields.items()])\n",
    "        cat_old_central = setdiff(cat_old,cat_new,keys='NUMBER')\n",
    "        cat_new_central = setdiff(cat_new,cat_old,keys='NUMBER')\n",
    "\n",
    "        for gal in cat_old:\n",
    "            if gal['NUMBER'] in cat_new['NUMBER']:\n",
    "                cat3.add_row(gal)\n",
    "\n",
    "        cat3.write('CUT_deep_catalogs/massive_gal_matched_cat/isolated_'+cat_name+'_'+str(z)+'_both_central.positions.fits',overwrite=True)\n",
    "        cat_old_central.write('CUT_deep_catalogs/massive_gal_matched_cat/isolated_'+cat_name+'_'+str(z)+'_old_central.positions.fits',overwrite=True)\n",
    "        cat_new_central.write('CUT_deep_catalogs/massive_gal_matched_cat/isolated_'+cat_name+'_'+str(z)+'_new_central.positions.fits',overwrite=True)\n",
    "        print(len(cat3),len(cat_old_central),len(cat_new_central))\n",
    "        "
   ]
  },
  {
   "cell_type": "markdown",
   "metadata": {},
   "source": [
    "check properties of the centrals that satisfy both selection criteria"
   ]
  },
  {
   "cell_type": "code",
   "execution_count": 327,
   "metadata": {},
   "outputs": [],
   "source": [
    "cat_combined = Table(names=cat_old.colnames, dtype=[str(y[0]) for x, y in cat_old.dtype.fields.items()])\n",
    "for cat_name in cat_names:\n",
    "    for z in [0.4,0.6,0.8]:\n",
    "        cat = Table.read('CUT_deep_catalogs/massive_gal_matched_cat/isolated_'+cat_name+'_'+str(z)+'_both_central.positions.fits')\n",
    "        cat_combined = vstack([cat_combined,cat])\n",
    "        "
   ]
  },
  {
   "cell_type": "code",
   "execution_count": 336,
   "metadata": {},
   "outputs": [
    {
     "data": {
      "text/plain": [
       "Text(0.5, 0, 'MassNew - MassOld  (log)')"
      ]
     },
     "execution_count": 336,
     "metadata": {},
     "output_type": "execute_result"
    },
    {
     "data": {
      "image/png": "[encoded data removed]",
      "text/plain": [
       "<Figure size 432x288 with 1 Axes>"
      ]
     },
     "metadata": {},
     "output_type": "display_data"
    }
   ],
   "source": [
    "plt.hist(cat_combined['MASS_MED_new']-cat_combined['MASS_MED'],bins=20)\n",
    "plt.xlabel('MassNew - MassOld  (log)',fontsize=15)"
   ]
  },
  {
   "cell_type": "code",
   "execution_count": 437,
   "metadata": {},
   "outputs": [
    {
     "data": {
      "text/plain": [
       "Text(0.5, 0, 'zNew - zOld  (log)')"
      ]
     },
     "execution_count": 437,
     "metadata": {},
     "output_type": "execute_result"
    },
    {
     "data": {
      "image/png": "[encoded data removed]",
      "text/plain": [
       "<Figure size 432x288 with 1 Axes>"
      ]
     },
     "metadata": {},
     "output_type": "display_data"
    }
   ],
   "source": [
    "plt.hist(cat_combined['Z_BEST_BC03']-cat_combined['zKDEPeak'],bins=50)\n",
    "plt.xlabel('zNew - zOld  (log)',fontsize=15)"
   ]
  },
  {
   "cell_type": "markdown",
   "metadata": {},
   "source": [
    "### new/old-only-central catalogs (match the central catalogs, using two both-massive cats and isolation criteria)\n",
    "save catalogs for massive centrals that only satisfy old (M>11.15, zcut) or new (M>11.35,zcut) selection criteria, and also pass the isolation criteria using corresponding selection criteria"
   ]
  },
  {
   "cell_type": "code",
   "execution_count": 351,
   "metadata": {},
   "outputs": [
    {
     "name": "stdout",
     "output_type": "stream",
     "text": [
      "COSMOS_deep 0.4\n",
      "ELAIS_deep 0.4\n",
      "DEEP_deep 0.4\n",
      "XMM-LSS_deep 0.4\n",
      "SXDS_uddd 0.4\n",
      "CUT_deep_catalogs/massive_gal_matched_cat/isolated_0.4_massive_old_central.positions.fits\n",
      "COSMOS_deep 0.6\n",
      "ELAIS_deep 0.6\n",
      "DEEP_deep 0.6\n",
      "XMM-LSS_deep 0.6\n",
      "SXDS_uddd 0.6\n",
      "CUT_deep_catalogs/massive_gal_matched_cat/isolated_0.6_massive_old_central.positions.fits\n",
      "COSMOS_deep 0.8\n",
      "ELAIS_deep 0.8\n",
      "DEEP_deep 0.8\n",
      "XMM-LSS_deep 0.8\n",
      "SXDS_uddd 0.8\n",
      "CUT_deep_catalogs/massive_gal_matched_cat/isolated_0.8_massive_old_central.positions.fits\n"
     ]
    }
   ],
   "source": [
    "cat_names = ['COSMOS_deep','ELAIS_deep', 'DEEP_deep','XMM-LSS_deep','SXDS_uddd']\n",
    "selection = 'old'\n",
    "cat_only_combined = Table(names=cat_old.colnames, dtype=[str(y[0]) for x, y in cat_old.dtype.fields.items()])\n",
    "for z in [0.4,0.6,0.8]:\n",
    "    for cat_name in cat_names:\n",
    "        print(cat_name,z)\n",
    "        cat_old_new = Table.read('CUT_deep_catalogs/massive_gal_matched_cat/isolated_'+cat_name+'_11.15_'+str(z)+'_massive_'+selection+'_params_old.positions.fits')\n",
    "        cat_only_combined = vstack([cat_only_combined,cat_old_new])\n",
    "    combine_name = 'CUT_deep_catalogs/massive_gal_matched_cat/isolated_'+str(z)+'_massive_'+selection+'_central.positions.fits'\n",
    "    cat_only_combined.write(combine_name,overwrite=True)\n",
    "    print(combine_name)\n",
    "            "
   ]
  },
  {
   "cell_type": "code",
   "execution_count": 435,
   "metadata": {},
   "outputs": [
    {
     "data": {
      "text/plain": [
       "Text(0.5, 0, 'MassNew - MassOld  (log)')"
      ]
     },
     "execution_count": 435,
     "metadata": {},
     "output_type": "execute_result"
    },
    {
     "data": {
      "image/png": "[encoded data removed]",
      "text/plain": [
       "<Figure size 432x288 with 1 Axes>"
      ]
     },
     "metadata": {},
     "output_type": "display_data"
    }
   ],
   "source": [
    "cat_only = Table.read('CUT_deep_catalogs/massive_gal_matched_cat/isolated_0.8_massive_new_central.positions.fits')\n",
    "plt.hist(cat_only['MASS_MED_new']-cat_only['MASS_MED'],range=(-0.5,1.5),bins=30,label=r'$0.7<z<0.9$')\n",
    "plt.legend(fontsize=15)\n",
    "plt.xlabel('MassNew - MassOld  (log)',fontsize=15)"
   ]
  },
  {
   "cell_type": "code",
   "execution_count": 436,
   "metadata": {},
   "outputs": [
    {
     "data": {
      "text/plain": [
       "Text(0.5, 0, 'zNew - zOld  (log)')"
      ]
     },
     "execution_count": 436,
     "metadata": {},
     "output_type": "execute_result"
    },
    {
     "data": {
      "image/png": "[encoded data removed]",
      "text/plain": [
       "<Figure size 432x288 with 1 Axes>"
      ]
     },
     "metadata": {},
     "output_type": "display_data"
    }
   ],
   "source": [
    "plt.hist(cat_only['Z_BEST_BC03']-cat_only['zKDEPeak'],bins=50,range=(-0.2,0.2))\n",
    "plt.xlabel('zNew - zOld  (log)',fontsize=15)"
   ]
  },
  {
   "cell_type": "markdown",
   "metadata": {},
   "source": [
    "### combine the satellite catalogs (old/new catalog directly)\n",
    "combine satellite catalogs (one for each central) for each field and redshift bin"
   ]
  },
  {
   "cell_type": "code",
   "execution_count": 382,
   "metadata": {},
   "outputs": [
    {
     "name": "stdout",
     "output_type": "stream",
     "text": [
      "378\n",
      "14780\n"
     ]
    }
   ],
   "source": [
    "sat_path = 'CUT_deep_catalogs/total_sample_0321/COSMOS_deep_4.0/'\n",
    "cat_stack = Table(names=cat_old.colnames, dtype=[str(y[0]) for x, y in cat_old.dtype.fields.items()])\n",
    "\n",
    "filelist = glob.glob(sat_path+'/*.fits')\n",
    "\n",
    "for filename in filelist:\n",
    "    cat = Table.read(filename)\n",
    "    cat_stack = vstack([cat_stack,cat])\n",
    "\n",
    "print(len(cat_stack))"
   ]
  },
  {
   "cell_type": "code",
   "execution_count": 389,
   "metadata": {},
   "outputs": [
    {
     "data": {
      "text/plain": [
       "Text(0.5, 0, 'zNew - zOld  (log)')"
      ]
     },
     "execution_count": 389,
     "metadata": {},
     "output_type": "execute_result"
    },
    {
     "data": {
      "image/png": "[encoded data removed]",
      "text/plain": [
       "<Figure size 432x288 with 1 Axes>"
      ]
     },
     "metadata": {},
     "output_type": "display_data"
    }
   ],
   "source": [
    "plt.hist(cat_stack['zKDEPeak'],bins=20)\n",
    "plt.xlabel('zNew - zOld  (log)',fontsize=15)"
   ]
  },
  {
   "cell_type": "code",
   "execution_count": 390,
   "metadata": {},
   "outputs": [
    {
     "data": {
      "text/plain": [
       "Text(0.5, 0, 'MassNew - MassOld  (log)')"
      ]
     },
     "execution_count": 390,
     "metadata": {},
     "output_type": "execute_result"
    },
    {
     "data": {
      "image/png": "[encoded data removed]",
      "text/plain": [
       "<Figure size 432x288 with 1 Axes>"
      ]
     },
     "metadata": {},
     "output_type": "display_data"
    }
   ],
   "source": [
    "plt.hist(cat_stack['MASS_MED'],bins=30,label=r'$0.7<z<0.9$')\n",
    "plt.legend(fontsize=15)\n",
    "plt.xlabel('MassNew - MassOld  (log)',fontsize=15)"
   ]
  },
  {
   "cell_type": "markdown",
   "metadata": {},
   "source": [
    "### combine the satellite catalogs (matched cat)\n",
    "combine satellite catalogs (one for each central) for each field and redshift bin\n",
    "\n",
    "To compare:\n",
    "1. overlapping fraction\n",
    "2. redshift difference\n",
    "3. mass difference"
   ]
  },
  {
   "cell_type": "code",
   "execution_count": 541,
   "metadata": {},
   "outputs": [
    {
     "name": "stderr",
     "output_type": "stream",
     "text": [
      "WARNING: MergeConflictWarning: Cannot merge meta key 'TCOMM17' types <class 'str'> and <class 'str'>, choosing TCOMM17='Expression: _3' [astropy.utils.metadata]\n",
      "WARNING: MergeConflictWarning: Cannot merge meta key 'DATE-HDU' types <class 'str'> and <class 'str'>, choosing DATE-HDU='2020-02-28T00:51:59' [astropy.utils.metadata]\n",
      "WARNING: MergeConflictWarning: Cannot merge meta key 'DATE-HDU' types <class 'str'> and <class 'str'>, choosing DATE-HDU='2020-02-28T00:48:18' [astropy.utils.metadata]\n",
      "WARNING: MergeConflictWarning: Cannot merge meta key 'DATE-HDU' types <class 'str'> and <class 'str'>, choosing DATE-HDU='2020-02-28T00:48:38' [astropy.utils.metadata]\n",
      "WARNING: MergeConflictWarning: Cannot merge meta key 'DATE-HDU' types <class 'str'> and <class 'str'>, choosing DATE-HDU='2020-02-28T00:51:15' [astropy.utils.metadata]\n"
     ]
    },
    {
     "name": "stdout",
     "output_type": "stream",
     "text": [
      "36 21361\n"
     ]
    }
   ],
   "source": [
    "# stack satellite catalogs\n",
    "# selected by old params\n",
    "\n",
    "cat_sat_stack_old_params = Table(names=cat_old.colnames, dtype=[str(y[0]) for x, y in cat_old.dtype.fields.items()])\n",
    "for cat_name in ['COSMOS_deep','DEEP_deep','ELAIS_deep','XMM-LSS_deep','SXDS_uddd']:\n",
    "    sat_path = 'CUT_deep_catalogs/total_sample_matched_cat_massive_both-central_old_params/'+cat_name+'_4.0/'\n",
    "\n",
    "    filelist = glob.glob(sat_path+'/*_sat.fits')\n",
    "    for filename in filelist:\n",
    "        cat = Table.read(filename)\n",
    "        cat_sat_stack_old_params = vstack([cat_sat_stack_old_params, cat])\n",
    "\n",
    "cat_sat_stack_old_params = unique(cat_sat_stack_old_params,keys='NUMBER')\n",
    "print(len(filelist),len(cat_sat_stack_old_params))"
   ]
  },
  {
   "cell_type": "code",
   "execution_count": 542,
   "metadata": {},
   "outputs": [
    {
     "name": "stderr",
     "output_type": "stream",
     "text": [
      "WARNING: MergeConflictWarning: Cannot merge meta key 'TCOMM17' types <class 'str'> and <class 'str'>, choosing TCOMM17='Expression: _3' [astropy.utils.metadata]\n",
      "WARNING: MergeConflictWarning: Cannot merge meta key 'DATE-HDU' types <class 'str'> and <class 'str'>, choosing DATE-HDU='2020-02-28T00:51:59' [astropy.utils.metadata]\n",
      "WARNING: MergeConflictWarning: Cannot merge meta key 'DATE-HDU' types <class 'str'> and <class 'str'>, choosing DATE-HDU='2020-02-28T00:48:18' [astropy.utils.metadata]\n",
      "WARNING: MergeConflictWarning: Cannot merge meta key 'DATE-HDU' types <class 'str'> and <class 'str'>, choosing DATE-HDU='2020-02-28T00:48:38' [astropy.utils.metadata]\n",
      "WARNING: MergeConflictWarning: Cannot merge meta key 'DATE-HDU' types <class 'str'> and <class 'str'>, choosing DATE-HDU='2020-02-28T00:51:15' [astropy.utils.metadata]\n"
     ]
    },
    {
     "name": "stdout",
     "output_type": "stream",
     "text": [
      "36 22276\n"
     ]
    }
   ],
   "source": [
    "# stack satellite catalogs\n",
    "# selected by new params\n",
    "\n",
    "cat_sat_stack_new_params = Table(names=cat_old.colnames, dtype=[str(y[0]) for x, y in cat_old.dtype.fields.items()])\n",
    "for cat_name in ['COSMOS_deep','DEEP_deep','ELAIS_deep','XMM-LSS_deep','SXDS_uddd']:\n",
    "    sat_path = 'CUT_deep_catalogs/total_sample_matched_cat_massive_both-central_new_params/'+cat_name+'_4.0/'\n",
    "\n",
    "    filelist = glob.glob(sat_path+'/*_sat.fits')\n",
    "    for filename in filelist:\n",
    "        cat = Table.read(filename)\n",
    "        cat_sat_stack_new_params = vstack([cat_sat_stack_new_params, cat])\n",
    "        \n",
    "cat_sat_stack_new_params = unique(cat_sat_stack_new_params,keys='NUMBER')\n",
    "print(len(filelist),len(cat_sat_stack_new_params))"
   ]
  },
  {
   "cell_type": "markdown",
   "metadata": {},
   "source": [
    "overlapping fraction"
   ]
  },
  {
   "cell_type": "code",
   "execution_count": 584,
   "metadata": {},
   "outputs": [
    {
     "name": "stdout",
     "output_type": "stream",
     "text": [
      "19621\n"
     ]
    }
   ],
   "source": [
    "cat_sat_stack_both = join(cat_sat_stack_old_params,cat_sat_stack_new_params,keys='NUMBER',join_type='inner')\n",
    "cat_sat_stack_old_only = setdiff(cat_sat_stack_old_params,cat_sat_stack_new_params,keys='NUMBER')\n",
    "cat_sat_stack_new_only = setdiff(cat_sat_stack_new_params,cat_sat_stack_old_params,keys='NUMBER')\n",
    "print(len(cat_sat_stack_both))"
   ]
  },
  {
   "cell_type": "code",
   "execution_count": 594,
   "metadata": {},
   "outputs": [
    {
     "data": {
      "text/plain": [
       "<matplotlib.legend.Legend at 0x1a4627f278>"
      ]
     },
     "execution_count": 594,
     "metadata": {},
     "output_type": "execute_result"
    },
    {
     "data": {
      "image/png": "[encoded data removed]",
      "text/plain": [
       "<Figure size 576x360 with 1 Axes>"
      ]
     },
     "metadata": {},
     "output_type": "display_data"
    }
   ],
   "source": [
    "fig, axs = plt.subplots(1, 1, sharex=True,sharey='row', figsize=(8, 5))\n",
    "plt.hist(cat_sat_stack_old_only['MASS_MED_new']-cat_sat_stack_old_only['MASS_MED'],\n",
    "         bins=50,range=(-0.5,0.5),color='g',histtype='step',\n",
    "        label='old only')\n",
    "\n",
    "plt.hist(cat_sat_stack_new_only['MASS_MED_new']-cat_sat_stack_new_only['MASS_MED'],\n",
    "         bins=50,range=(-0.5,0.5),color='b',histtype='step',label='new only')\n",
    "\n",
    "plt.hist(cat_sat_stack_both['MASS_MED_new_1']-cat_sat_stack_both['MASS_MED_1'],\n",
    "         bins=50,range=(-0.5,0.5),color='r',histtype='step',weights=np.ones(len(cat_sat_stack_both))*0.2,\n",
    "        label='both * 0.2')\n",
    "\n",
    "plt.xlabel('MassNew - MassOld  (log)',fontsize=15)\n",
    "plt.legend(fontsize=15,loc='upper left')"
   ]
  },
  {
   "cell_type": "code",
   "execution_count": 597,
   "metadata": {},
   "outputs": [
    {
     "data": {
      "text/plain": [
       "<matplotlib.legend.Legend at 0x1a465c7e80>"
      ]
     },
     "execution_count": 597,
     "metadata": {},
     "output_type": "execute_result"
    },
    {
     "data": {
      "image/png": "[encoded data removed]",
      "text/plain": [
       "<Figure size 576x360 with 1 Axes>"
      ]
     },
     "metadata": {},
     "output_type": "display_data"
    }
   ],
   "source": [
    "fig, axs = plt.subplots(1, 1, sharex=True,sharey='row', figsize=(8, 5))\n",
    "plt.hist(cat_sat_stack_old_only['Z_BEST_BC03']-cat_sat_stack_old_only['zKDEPeak'],\n",
    "         bins=50,range=(-0.1,0.1),color='g',histtype='step',\n",
    "        label='old only')\n",
    "\n",
    "plt.hist(cat_sat_stack_new_only['Z_BEST_BC03']-cat_sat_stack_new_only['zKDEPeak'],\n",
    "         bins=50,range=(-0.1,0.1),color='b',histtype='step',label='new only')\n",
    "\n",
    "plt.hist(cat_sat_stack_both['Z_BEST_BC03_1']-cat_sat_stack_both['zKDEPeak_1'],\n",
    "         bins=50,range=(-0.1,0.1),color='r',histtype='step',\n",
    "        label='both')\n",
    "\n",
    "plt.xlabel('MassNew - MassOld  (log)',fontsize=15)\n",
    "plt.legend(fontsize=15,loc='upper left')"
   ]
  },
  {
   "cell_type": "markdown",
   "metadata": {},
   "source": [
    "mass difference"
   ]
  },
  {
   "cell_type": "code",
   "execution_count": 592,
   "metadata": {},
   "outputs": [
    {
     "data": {
      "text/plain": [
       "<matplotlib.legend.Legend at 0x1a461c7940>"
      ]
     },
     "execution_count": 592,
     "metadata": {},
     "output_type": "execute_result"
    },
    {
     "data": {
      "image/png": "[encoded data removed]",
      "text/plain": [
       "<Figure size 576x360 with 1 Axes>"
      ]
     },
     "metadata": {},
     "output_type": "display_data"
    }
   ],
   "source": [
    "fig, axs = plt.subplots(1, 1, sharex=True,sharey='row', figsize=(8, 5))\n",
    "plt.hist(cat_sat_stack_old_params['MASS_MED_new']-cat_sat_stack_old_params['MASS_MED'],\n",
    "         bins=50,range=(-0.5,0.5),color='g',histtype='step',\n",
    "        label='old selected')\n",
    "\n",
    "plt.hist(cat_sat_stack_new_params['MASS_MED_new']-cat_sat_stack_new_params['MASS_MED'],\n",
    "         bins=50,range=(-0.5,0.5),color='b',histtype='step',label='new selected')\n",
    "\n",
    "plt.hist(cat_sat_stack_both['MASS_MED_new_1']-cat_sat_stack_both['MASS_MED_1'],\n",
    "         bins=50,range=(-0.5,0.5),color='r',histtype='step',\n",
    "        label='both')\n",
    "\n",
    "plt.xlabel('MassNew - MassOld  (log)',fontsize=15)\n",
    "plt.legend(fontsize=15,loc='upper left')"
   ]
  },
  {
   "cell_type": "markdown",
   "metadata": {},
   "source": [
    "redshift difference"
   ]
  },
  {
   "cell_type": "code",
   "execution_count": 598,
   "metadata": {},
   "outputs": [
    {
     "data": {
      "text/plain": [
       "<matplotlib.legend.Legend at 0x1a458fa630>"
      ]
     },
     "execution_count": 598,
     "metadata": {},
     "output_type": "execute_result"
    },
    {
     "data": {
      "image/png": "[encoded data removed]",
      "text/plain": [
       "<Figure size 576x360 with 1 Axes>"
      ]
     },
     "metadata": {},
     "output_type": "display_data"
    }
   ],
   "source": [
    "fig, axs = plt.subplots(1, 1, sharex=True,sharey='row', figsize=(8, 5))\n",
    "plt.hist(cat_sat_stack_old_params['Z_BEST_BC03']-cat_sat_stack_old_params['zKDEPeak'],\n",
    "         bins=50,range=(-0.1,0.1),color='g',histtype='step',\n",
    "        label='old selected')\n",
    "\n",
    "plt.hist(cat_sat_stack_new_params['Z_BEST_BC03']-cat_sat_stack_new_params['zKDEPeak'],\n",
    "         bins=50,range=(-0.1,0.1),color='b',histtype='step',label='new selected')\n",
    "\n",
    "plt.hist(cat_sat_stack_both['Z_BEST_BC03_1']-cat_sat_stack_both['zKDEPeak_1'],\n",
    "         bins=50,range=(-0.1,0.1),color='r',histtype='step',\n",
    "        label='both')\n",
    "\n",
    "plt.xlabel('MassNew - MassOld  (log)',fontsize=15)\n",
    "plt.legend(fontsize=15,loc='upper left')"
   ]
  },
  {
   "cell_type": "markdown",
   "metadata": {},
   "source": [
    "look at individual satellite catalogs (per one central)"
   ]
  },
  {
   "cell_type": "code",
   "execution_count": 476,
   "metadata": {},
   "outputs": [
    {
     "name": "stdout",
     "output_type": "stream",
     "text": [
      "36 45\n"
     ]
    }
   ],
   "source": [
    "rand_n = 40\n",
    "cat_name = 'DEEP_deep'\n",
    "\n",
    "filelist_old = glob.glob('CUT_deep_catalogs/total_sample_matched_cat_massive_both-central_old_params/'+cat_name+'_4.0/*_sat.fits')\n",
    "filename_old = filelist_old[rand_n]\n",
    "cat1 = Table.read(filename_old)\n",
    "\n",
    "filelist_new = glob.glob('CUT_deep_catalogs/total_sample_matched_cat_massive_both-central_new_params/'+cat_name+'_4.0/*_sat.fits')\n",
    "filename_new = filelist_new[rand_n]\n",
    "cat2 = Table.read(filename_new)\n",
    "\n",
    "print(len(cat1),len(cat2))"
   ]
  },
  {
   "cell_type": "code",
   "execution_count": 485,
   "metadata": {},
   "outputs": [
    {
     "name": "stdout",
     "output_type": "stream",
     "text": [
      "34\n"
     ]
    }
   ],
   "source": [
    "overlap_count = 0\n",
    "cat_sat_stack_both_params = Table(names=cat1.colnames, dtype=[str(y[0]) for x, y in cat1.dtype.fields.items()])\n",
    "for gal in cat2:\n",
    "    if gal['NUMBER'] in cat1['NUMBER']:\n",
    "        overlap_count += 1\n",
    "        cat_sat_stack_both_params.add_row(gal)\n",
    "\n",
    "print(overlap_count)"
   ]
  },
  {
   "cell_type": "code",
   "execution_count": 486,
   "metadata": {},
   "outputs": [
    {
     "name": "stdout",
     "output_type": "stream",
     "text": [
      "    NUMBER         MASS_MED     MASS_MED_new       zKDEPeak      Z_BEST_BC03\n",
      "------------- ----------------- ------------ ------------------- -----------\n",
      "9707420002064           9.55077      9.59282 0.37435445362502506      0.3714\n",
      "9707420002075           10.3711      10.5591  0.6755999987189835      0.6793\n",
      "9707420003099           9.64688      9.51404  0.6252071901305659      0.7035\n",
      "9707420003402 9.771239999999999      9.76508  0.7074354413124893      0.7398\n",
      "9707420003338 9.570210000000001       9.6175  0.4320082240873151      0.4341\n",
      "9707420002479           9.88632      9.89714  0.4811077081375533      0.4804\n",
      "9707420005049           9.76484      9.91057  0.6847690887995311       0.679\n",
      "9707420002132           10.3494      10.5404  0.4721621700951286      0.4771\n",
      "9707420004887           11.0787      11.0815  0.6816995841962796      0.6891\n",
      "9707420002841 9.597010000000001      9.71406 0.43544025338805836      0.4544\n",
      "          ...               ...          ...                 ...         ...\n",
      "9707420003895           10.0162      10.2039  0.7428664393700637      0.7422\n",
      "9707420001399           9.53275      9.85448  0.2577973181778962      0.2526\n",
      "9707420001071           11.1347      11.3607  0.5624740747837453      0.5589\n",
      "9707420001894           10.7016      10.9656 0.41895794525399455      0.4158\n",
      "9707420001154           10.0817      10.4716 0.39698909783924186      0.3951\n",
      "9707420003052           10.6634      10.9499 0.37902942308792487      0.3754\n",
      "9707420001105           10.4603      10.7033  0.2117012988876652      0.2153\n",
      "9707420003767           11.0792      11.1194  0.3126108195330646      0.3083\n",
      "9707420002529           11.0295      11.2557 0.46557118226815986      0.4521\n",
      "9707420005312           10.9539      11.1068 0.30083063683352307      0.3011\n",
      "9707420002978           10.1853       10.327  0.6225639916844554      0.6071\n",
      "Length = 34 rows\n"
     ]
    }
   ],
   "source": [
    "print( cat_sat_stack_both_params['NUMBER','MASS_MED','MASS_MED_new','zKDEPeak','Z_BEST_BC03'])"
   ]
  },
  {
   "cell_type": "code",
   "execution_count": 465,
   "metadata": {},
   "outputs": [
    {
     "name": "stdout",
     "output_type": "stream",
     "text": [
      "    NUMBER    MASS_MED\n",
      "------------- --------\n",
      "9708800004314  10.4102\n",
      "9707100007187  10.0551\n",
      "9464080005537  9.58863\n",
      "9708800004989   9.6214\n",
      "9708800002438  9.96572\n",
      "9464080003111  9.58043\n",
      "9707100006280  9.93031\n",
      "9464080005218  10.0855\n",
      "9708800005837  9.64747\n",
      "9707000004195  10.3278\n",
      "          ...      ...\n",
      "9465880004714  10.8437\n",
      "9464080002900  10.4805\n",
      "9465880006436  10.3098\n",
      "9707100007266  10.2907\n",
      "9465880004347    11.27\n",
      "9708800005221  10.3402\n",
      "9464080003160  10.8639\n",
      "9464080006355  11.0371\n",
      "9708800006311  9.94458\n",
      "9464080002449   10.636\n",
      "9464180003868   10.249\n",
      "Length = 46 rows\n"
     ]
    }
   ],
   "source": [
    "print(cat1['NUMBER','MASS_MED'])"
   ]
  },
  {
   "cell_type": "code",
   "execution_count": null,
   "metadata": {},
   "outputs": [],
   "source": []
  }
 ],
 "metadata": {
  "kernelspec": {
   "display_name": "Python 3",
   "language": "python",
   "name": "python3"
  },
  "language_info": {
   "codemirror_mode": {
    "name": "ipython",
    "version": 3
   },
   "file_extension": ".py",
   "mimetype": "text/x-python",
   "name": "python",
   "nbconvert_exporter": "python",
   "pygments_lexer": "ipython3",
   "version": "3.6.8"
  }
 },
 "nbformat": 4,
 "nbformat_minor": 2
}
