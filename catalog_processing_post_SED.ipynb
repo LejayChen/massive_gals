{
 "cells": [
  {
   "cell_type": "code",
   "execution_count": 2,
   "metadata": {},
   "outputs": [],
   "source": [
    "from astropy.table import *\n",
    "import matplotlib.pyplot as plt\n",
    "import numpy as np\n",
    "from tqdm import tqdm\n",
    "from astropy.table import hstack\n",
    "import os\n",
    "import seaborn as sns\n",
    "from scipy.stats import binned_statistic\n",
    "import matplotlib\n",
    "import matplotlib.backends.backend_pdf\n",
    "from scipy.stats import chi2, binned_statistic\n",
    "from cosmic_calc import * \n",
    "from scipy.optimize import curve_fit\n",
    "from bisect import bisect\n",
    "from datetime import datetime\n",
    "from scipy.optimize import curve_fit\n",
    "from statsmodels.stats.weightstats import DescrStatsW\n",
    "\n",
    "plt.rc('font', family='serif'), plt.rc('xtick', labelsize=18), plt.rc('ytick', labelsize=18)\n",
    "plt.rcParams['savefig.dpi'] = 300\n",
    "plt.rc('text',usetex=True)\n",
    "matplotlib.rcParams['xtick.direction'] = 'in'\n",
    "matplotlib.rcParams['ytick.direction'] = 'in'\n",
    "np.set_printoptions(precision=3)"
   ]
  },
  {
   "cell_type": "code",
   "execution_count": 3,
   "metadata": {},
   "outputs": [],
   "source": [
    "dev_path = '/Users/lejay/research/lephare_dev/my_code/'\n",
    "output_dir = dev_path+'output_cats/'\n",
    "graham_output_dir = dev_path + 'graham_output_cats_new/'"
   ]
  },
  {
   "cell_type": "markdown",
   "metadata": {},
   "source": [
    "#### Trim some columns"
   ]
  },
  {
   "cell_type": "code",
   "execution_count": 68,
   "metadata": {},
   "outputs": [
    {
     "name": "stdout",
     "output_type": "stream",
     "text": [
      "/Users/lejay/research/lephare_dev/my_code/graham_output_cats_new/pcat_COSMOS_deep_cat_out_nomaglimit_nonir_il_nz_prior_formass.fits\n",
      "IDENT already removed\n",
      "CONTEXT already removed\n",
      "NBAND_USED already removed\n",
      "EBV_BEST already removed\n",
      "STRING_INPUT already removed\n",
      "HSC_i_MAGERR_AUTO already removed\n",
      "103\n",
      "\n",
      "/Users/lejay/research/lephare_dev/my_code/graham_output_cats_new/pcat_DEEP_deep_cat_out_nomaglimit_nonir_il_nz_prior_formass.fits\n",
      "IDENT already removed\n",
      "CONTEXT already removed\n",
      "NBAND_USED already removed\n",
      "EBV_BEST already removed\n",
      "STRING_INPUT already removed\n",
      "FLAG_FIELD already removed\n",
      "84\n",
      "\n",
      "/Users/lejay/research/lephare_dev/my_code/graham_output_cats_new/pcat_ELAIS_deep_cat_out_nomaglimit_nonir_il_nz_prior_formass.fits\n",
      "IDENT already removed\n",
      "CONTEXT already removed\n",
      "NBAND_USED already removed\n",
      "EBV_BEST already removed\n",
      "STRING_INPUT already removed\n",
      "FLAG_FIELD already removed\n",
      "84\n",
      "\n",
      "/Users/lejay/research/lephare_dev/my_code/graham_output_cats_new/pcat_XMM-LSS_deep_cat_out_nomaglimit_nonir_il_nz_prior_formass.fits\n",
      "IDENT already removed\n",
      "CONTEXT already removed\n",
      "NBAND_USED already removed\n",
      "EBV_BEST already removed\n",
      "STRING_INPUT already removed\n",
      "FLAG_FIELD already removed\n",
      "86\n",
      "\n"
     ]
    }
   ],
   "source": [
    "prefix = 'pcat_' # '','v9pcat'\n",
    "\n",
    "# cat_names = ['COSMOS_deep','ELAIS_deep']\n",
    "cat_names = ['COSMOS_deep','DEEP_deep','ELAIS_deep','XMM-LSS_deep']\n",
    "# cat_names = ['XMM-LSS_deep']\n",
    "for cat_name in cat_names:\n",
    "    print(graham_output_dir+prefix+cat_name+'_cat_out_nomaglimit_nonir_il_nz_prior_formass.fits')\n",
    "    if cat_name != 'XMM-LSS_deep':\n",
    "        output_cat = Table.read(graham_output_dir+prefix+cat_name+'_cat_out_nomaglimit_nonir_il_nz_prior_formass.fits')\n",
    "    else:\n",
    "        output_cat = Table.read(graham_output_dir+prefix+cat_name+'_cat_out_nomaglimit_noirac_il_nz_prior_formass.fits')\n",
    "    \n",
    "    keys_set1 = [key for key in output_cat.keys() if 'NBAND_USED' in key]\n",
    "    keys_set2 = [key for key in output_cat.keys() if 'CONTEXT' in key]\n",
    "    keys_set3 = [key for key in output_cat.keys() if 'Z_BEST' in key]\n",
    "    keys_set4 = [key for key in output_cat.keys() if 'Z_ML' in key]\n",
    "    keys_other = ['IDENT','CONTEXT','NBAND_USED','EBV_BEST', 'STRING_INPUT']\n",
    "    if cat_name == 'COSMOS_deep':\n",
    "        keys_other.append('HSC_i_MAGERR_AUTO')\n",
    "    else:\n",
    "        keys_other.append('FLAG_FIELD')\n",
    "    keys = keys_set1 + keys_set2 + keys_set3 + keys_set4+ keys_other\n",
    "    \n",
    "    for key in keys:\n",
    "        try:\n",
    "            output_cat.remove_column(key)\n",
    "        except KeyError:\n",
    "            print(key, 'already removed')\n",
    "        \n",
    "    print(len(output_cat.keys()))\n",
    "    print('')\n",
    "    \n",
    "    # rename some columns\n",
    "    for key in output_cat.keys():\n",
    "        if '_massrun' in key:\n",
    "            output_cat.rename_column(key,key.replace('_massrun',''))\n",
    "    \n",
    "    if cat_name != 'XMM-LSS_deep':\n",
    "        output_cat.write(graham_output_dir+prefix+cat_name+'_cat_out_nomaglimit_nonir_il_nz_prior_formass.fits', overwrite=True)\n",
    "    else:\n",
    "        output_cat.write(graham_output_dir+prefix+cat_name+'_cat_out_nomaglimit_noirac_il_nz_prior_formass.fits', overwrite=True)\n"
   ]
  },
  {
   "cell_type": "markdown",
   "metadata": {},
   "source": [
    "#### Add photometric flags"
   ]
  },
  {
   "cell_type": "code",
   "execution_count": 69,
   "metadata": {},
   "outputs": [],
   "source": [
    "# the function to add photometric flags\n",
    "# for a certain band, good flag requirements are detected + low uncertainty\n",
    "\n",
    "def add_photo_flag(cat,cat_name):\n",
    "    cat_matched = cat\n",
    "    \n",
    "    max_phot_err = 0.2\n",
    "    cond_U = ( (cat_matched['u'] > 0.) & (cat_matched['u'] < 50.) & (cat_matched['u_err'] > 0.) & (cat_matched['u_err'] < max_phot_err*2) )| \\\n",
    "             ( (cat_matched['uS'] > 0.) & (cat_matched['uS'] < 50.) & (cat_matched['uS_err'] > 0.) & (cat_matched['uS_err'] < max_phot_err*2) )\n",
    "    cond_g = ( (cat_matched['g'] > 0.) & (cat_matched['g'] < 50.) & (cat_matched['g_err'] > 0.) & (cat_matched['g_err'] < max_phot_err*2) ) \n",
    "    cond_r = ( (cat_matched['r'] > 0.) & (cat_matched['r'] < 50.) & (cat_matched['r_err'] > 0.) & (cat_matched['r_err'] < max_phot_err*2) )\n",
    "    cond_i = ( (cat_matched['i'] > 0.) & (cat_matched['i'] < 50.) & (cat_matched['i_err'] > 0.) & (cat_matched['i_err'] < max_phot_err) )\n",
    "    cond_z = ( (cat_matched['z'] > 0.) & (cat_matched['z'] < 50.) & (cat_matched['z_err'] > 0.) & (cat_matched['z_err'] < max_phot_err) )\n",
    "    cond_y = ( (cat_matched['y'] > 0.) & (cat_matched['y'] < 50.) & (cat_matched['y_err'] > 0.) & (cat_matched['y_err'] < max_phot_err) )\n",
    "    flag_optical = cond_U.astype(int) + cond_g.astype(int) + cond_r.astype(int) + cond_i.astype(int) + cond_z.astype(int) + cond_y.astype(int)\n",
    "    \n",
    "    if cat_name == 'COSMOS_deep' or cat_name == 'XMM-LSS_deep':\n",
    "        cond_Y = ( (cat_matched['Yv'] > 0.) & (cat_matched['Yv'] < 50.) & (cat_matched['Yv_err'] > 0.) & (cat_matched['Yv_err'] < max_phot_err) )\n",
    "        cond_J = ( (cat_matched['J'] > 0.) & (cat_matched['J'] < 50.) & (cat_matched['J_err'] > 0.) & (cat_matched['J_err'] < max_phot_err) )\n",
    "        cond_H = ( (cat_matched['H'] > 0.) & (cat_matched['H'] < 50.) & (cat_matched['H_err'] > 0.) & (cat_matched['H_err'] < max_phot_err) )\n",
    "        cond_Ks = ( (cat_matched['Ks'] > 0.) & (cat_matched['Ks'] < 50.) & (cat_matched['Ks_err'] > 0.) & (cat_matched['Ks_err'] < max_phot_err) )\n",
    "        flag_nir = cond_Y.astype(int) + cond_J.astype(int) + cond_H.astype(int) + cond_Ks.astype(int)\n",
    "    else:\n",
    "        flag_nir = np.zeros(len(cat))\n",
    "    \n",
    "    if cat_name != 'XMM-LSS_deep':\n",
    "        cond_ch1 = ( (cat_matched['MAG_AUTO_CH1_CORR'] > 0.) & (cat_matched['MAG_AUTO_CH1_CORR'] < 50.) & (cat_matched['MAGERR_AUTO_CH1_CORR'] < 4) )\n",
    "        cond_ch2 = ( (cat_matched['MAG_AUTO_CH2_CORR'] > 0.) & (cat_matched['MAG_AUTO_CH2_CORR'] < 50.) & (cat_matched['MAGERR_AUTO_CH1_CORR'] < 4) )\n",
    "        flag_irac = cond_ch1.astype(int) + cond_ch2.astype(int) \n",
    "    else:\n",
    "        flag_irac = np.zeros(len(cat))\n",
    "     \n",
    "    flag_list = [flag_optical,flag_nir,flag_irac]\n",
    "    flag_name_list = ['flag_optical','flag_nir','flag_irac']\n",
    "        \n",
    "    if len(cat_matched) != len(flag_optical) or len(cat_matched) != len(flag_nir) or len(cat_matched) != len(flag_irac):\n",
    "        print('lengths do not match')\n",
    "        return None\n",
    "    else:\n",
    "        col_flag_optical = Column(name='flag_optical', data=flag_optical)\n",
    "        col_flag_nir = Column(name='flag_nir', data=flag_nir)\n",
    "        col_flag_irac = Column(name='flag_irac', data=flag_irac)\n",
    "        if 'flag_optical' in cat_matched.keys():\n",
    "            cat_matched.remove_column('flag_optical')\n",
    "        if 'flag_nir' in cat_matched.keys():\n",
    "            cat_matched.remove_column('flag_nir')\n",
    "        if 'flag_irac' in cat_matched.keys():\n",
    "            cat_matched.remove_column('flag_irac')\n",
    "            \n",
    "        cat_matched.add_columns([col_flag_optical, col_flag_nir, col_flag_irac])\n",
    "        return cat_matched"
   ]
  },
  {
   "cell_type": "code",
   "execution_count": 70,
   "metadata": {},
   "outputs": [
    {
     "name": "stdout",
     "output_type": "stream",
     "text": [
      "COSMOS_deep\n",
      "DEEP_deep\n",
      "ELAIS_deep\n",
      "XMM-LSS_deep\n"
     ]
    }
   ],
   "source": [
    "prefix = 'pcat_'\n",
    "for cat_name in cat_names:\n",
    "    print(cat_name)\n",
    "    \n",
    "    # read catalog\n",
    "    if cat_name != 'XMM-LSS_deep':\n",
    "        output_cat = Table.read(graham_output_dir+prefix+cat_name+'_cat_out_nomaglimit_nonir_il_nz_prior_formass.fits')\n",
    "    else:\n",
    "        output_cat = Table.read(graham_output_dir+prefix+cat_name+'_cat_out_nomaglimit_noirac_il_nz_prior_formass.fits')\n",
    "    \n",
    "    # add photometry flags\n",
    "    output_cat = add_photo_flag(output_cat,cat_name)\n",
    "    \n",
    "    # write catalog\n",
    "    if cat_name != 'XMM-LSS_deep':\n",
    "        output_cat.write(graham_output_dir+prefix+cat_name+'_cat_out_nomaglimit_nonir_il_nz_prior_formass.fits', overwrite=True)\n",
    "    else:\n",
    "        output_cat.write(graham_output_dir+prefix+cat_name+'_cat_out_nomaglimit_noirac_il_nz_prior_formass.fits', overwrite=True)"
   ]
  },
  {
   "cell_type": "markdown",
   "metadata": {},
   "source": [
    "#### Add inside IRAC flag"
   ]
  },
  {
   "cell_type": "code",
   "execution_count": 71,
   "metadata": {},
   "outputs": [
    {
     "name": "stdout",
     "output_type": "stream",
     "text": [
      "COSMOS_deep\n",
      "DEEP_deep\n",
      "ELAIS_deep\n"
     ]
    }
   ],
   "source": [
    "cat_names = ['COSMOS_deep','DEEP_deep','ELAIS_deep']\n",
    "filenames = ['IRAC_cosmos.reg','IRAC_deep2.reg','IRAC_elais.reg']\n",
    "\n",
    "prefix = 'pcat_'\n",
    "for i,cat_name in enumerate(cat_names):\n",
    "    print(cat_name)\n",
    "    region_file = '/Users/lejay/research/regions/'+filenames[i]\n",
    "    cat_name_full = graham_output_dir+prefix+cat_name+'_cat_out_nomaglimit_nonir_il_nz_prior_formass.fits'\n",
    "    cat = Table.read(cat_name_full)\n",
    "    \n",
    "    if 'inside_irac' in cat.keys():\n",
    "        cat.remove_column('inside_irac')\n",
    "        cat.write(cat_name_full, overwrite=True)\n",
    "        \n",
    "    os.system('/Users/lejay/Downloads/venice-master/bin/venice -m '+region_file+' -f all -cat '+cat_name_full+' -xcol RA -ycol DEC -flagName inside_irac -o !'+cat_name_full)\n",
    "    \n",
    "    cat = Table.read(cat_name_full)\n",
    "    cat['inside_irac'] = (1-cat['inside_irac']).astype(bool)\n",
    "    cat.write(cat_name_full, overwrite=True)\n"
   ]
  },
  {
   "cell_type": "markdown",
   "metadata": {},
   "source": [
    "#### Add inside_uS_deep for XMM-LSS\n",
    "Deep u* region"
   ]
  },
  {
   "cell_type": "code",
   "execution_count": 80,
   "metadata": {},
   "outputs": [],
   "source": [
    "region_file = '/Users/lejay/research/regions/'+'MegaCam_uS_deep_xmm.reg'\n",
    "cat_name_full = graham_output_dir+'pcat_XMM-LSS_deep_cat_out_nomaglimit_noirac_il_nz_prior_formass.fits'\n",
    "cat = Table.read(cat_name_full)\n",
    "\n",
    "if 'inside_uS_deep' in cat.keys():\n",
    "    cat.remove_column('inside_uS_deep')\n",
    "    cat.write(cat_name_full, overwrite=True)\n",
    "    \n",
    "os.system('/Users/lejay/Downloads/venice-master/bin/venice -m '+region_file+' -f all -cat '+cat_name_full+' -xcol RA -ycol DEC -flagName inside_uS_deep -o !'+cat_name_full)\n",
    "\n",
    "cat = Table.read(cat_name_full)\n",
    "cat['inside_uS_deep'] = (1-cat['inside_uS_deep']).astype(bool)\n",
    "cat.write(cat_name_full, overwrite=True)\n"
   ]
  },
  {
   "cell_type": "markdown",
   "metadata": {},
   "source": [
    "#### Add column for outshing correction"
   ]
  },
  {
   "cell_type": "code",
   "execution_count": 73,
   "metadata": {},
   "outputs": [],
   "source": [
    "cat_names = ['COSMOS_deep','DEEP_deep','ELAIS_deep','XMM-LSS_deep']\n",
    "\n",
    "prefix = 'pcat_'\n",
    "m_keyname = 'MASS_MED'\n",
    "for i,cat_name in enumerate(cat_names):\n",
    "    if cat_name != 'XMM-LSS_deep':\n",
    "        cat_name_full = graham_output_dir+prefix+cat_name+'_cat_out_nomaglimit_nonir_il_nz_prior_formass.fits'\n",
    "    else:\n",
    "        cat_name_full = graham_output_dir+prefix+cat_name+'_cat_out_nomaglimit_noirac_il_nz_prior_formass.fits'\n",
    "    cat = Table.read(cat_name_full)\n",
    "    \n",
    "    # make outshing corrected mass (Sorba+Sawicki18)\n",
    "    ssfr_list = cat['SSFR_MED']\n",
    "    m_corr = (ssfr_list<=-9.23)*(0.02*ssfr_list+0.264)+(ssfr_list>-9.23)*(0.21*ssfr_list**2+3.9344*ssfr_list+18.505)\n",
    "    mass_corrected = cat[m_keyname]+m_corr\n",
    "    new_col_name = 'MASS_OUTSHINE'\n",
    "    m_corrrected_col = Column(data=mass_corrected,name=new_col_name)\n",
    "    \n",
    "    # add new column\n",
    "    if new_col_name in cat.keys():\n",
    "        cat.remove_column(new_col_name)\n",
    "    cat.add_column(m_corrrected_col)\n",
    "    cat.write(cat_name_full, overwrite=True)\n"
   ]
  },
  {
   "cell_type": "markdown",
   "metadata": {},
   "source": [
    "#### add more photometry flags"
   ]
  },
  {
   "cell_type": "code",
   "execution_count": 74,
   "metadata": {},
   "outputs": [
    {
     "name": "stdout",
     "output_type": "stream",
     "text": [
      "COSMOS_deep\n",
      "0\n",
      "DEEP_deep\n",
      "0\n",
      "ELAIS_deep\n",
      "0\n",
      "XMM-LSS_deep\n",
      "0\n"
     ]
    }
   ],
   "source": [
    "cat_names = ['COSMOS_deep','DEEP_deep','ELAIS_deep','XMM-LSS_deep']\n",
    "# cat_names = ['XMM-LSS_deep']\n",
    "\n",
    "prefix = 'pcat_' # or 'pcat_z6B_'\n",
    "for cat_name in cat_names:\n",
    "    if cat_name != 'XMM-LSS_deep':\n",
    "        cat_name_full = graham_output_dir+prefix+cat_name+'_cat_out_nomaglimit_nonir_il_nz_prior_formass.fits'\n",
    "        cat_name_phot = '/Users/lejay/phosphorus_catalogs/p_cats_published/'+cat_name+'_pcat_mags_gals_CH1_CH2_extinction_corrected.fits'\n",
    "    else:\n",
    "        cat_name_full = graham_output_dir+prefix+cat_name+'_cat_out_nomaglimit_noirac_il_nz_prior_formass.fits'\n",
    "        cat_name_phot = '/Users/lejay/phosphorus_catalogs/p_cats_published/'+cat_name+'_pcat_mags_gals_CH1_CH2_extinction_corrected.fits'\n",
    "\n",
    "    cat = Table.read(cat_name_full)\n",
    "    combined_cat_name = cat_name_full\n",
    "\n",
    "    if cat_name != 'XMM-LSS_deep':\n",
    "        col_list = \"'ID i_psf i_cmodel cmodel_fail_flag snr_Ch1 snr_CH2'\"\n",
    "        col_list_arr = ['i_psf','i_cmodel','cmodel_fail_flag','snr_CH1','snr_CH2']\n",
    "    else:\n",
    "        col_list = \"'ID i_psf i_cmodel cmodel_fail_flag'\"\n",
    "        col_list_arr = ['i_psf','i_cmodel','cmodel_fail_flag']\n",
    "\n",
    "    # remove the columns if they are alrady added \n",
    "    for col in col_list_arr:\n",
    "        if col in cat.keys():\n",
    "            cat.remove_column(col)\n",
    "            \n",
    "    for key in cat.keys():\n",
    "        if 'inside_irac' in key or 'inside_uS_deep' in key:\n",
    "            cat.remove_column(key)\n",
    "            \n",
    "    cat.write(cat_name_full, overwrite=True)\n",
    "    \n",
    "    # match and add columns\n",
    "    print(cat_name)\n",
    "    cmd = 'java -jar /Users/lejay/research/massive_gals/stilts.jar tmatch2 matcher=exact \\\n",
    "        in1='+cat_name_full + ' values1=\"ID\" \\\n",
    "        in2='+cat_name_phot+' values2=\"ID\"  join=1and2 icmd2=\"keepcols '+col_list+'\" \\\n",
    "        out='+ combined_cat_name\n",
    "    check = os.system(cmd)\n",
    "    print(check)\n",
    "\n",
    "    if check == 0:\n",
    "        cat = Table.read(cat_name_full)\n",
    "        cat.remove_column('ID_2')\n",
    "        cat.rename_column('ID_1','ID')\n",
    "        cat.write(cat_name_full, overwrite=True)\n",
    "    else:\n",
    "        print('Not matched!')"
   ]
  },
  {
   "cell_type": "markdown",
   "metadata": {},
   "source": [
    "#### add sfq info and flags"
   ]
  },
  {
   "cell_type": "code",
   "execution_count": 1,
   "metadata": {},
   "outputs": [],
   "source": [
    "# color-color boundary\n",
    "def boundary_basic(color1, ic_1, ic_2, slope):\n",
    "    nuv_1 = ic_1\n",
    "    nuv_2 = slope*color1 + ic_2\n",
    "    return np.maximum(nuv_1, nuv_2)\n",
    "\n",
    "\n",
    "def boundary_4d(color1, ic_1, ic_2, slope, z_factor, M_factor, z, M):\n",
    "    nuv_1 = ic_1\n",
    "    nuv_2 = (slope+z_factor*z+M_factor*M)*(color1 + ic_2)\n",
    "    return np.maximum(nuv_1, nuv_2)\n",
    "\n",
    "\n",
    "def boundary_3d(color1, ic_1, ic_2, slope, M_factor, M):\n",
    "    nuv_1 = ic_1\n",
    "    nuv_2 = (slope+M_factor*M)*color1 + ic_2\n",
    "    return np.maximum(nuv_1, nuv_2)"
   ]
  },
  {
   "cell_type": "code",
   "execution_count": 18,
   "metadata": {},
   "outputs": [],
   "source": [
    "# sfq_info in catalog\n",
    "# keynames: sfq_nuvrk_myrun_[...]\n",
    "\n",
    "prefix = 'pcat_'\n",
    "sfq_fit_type = 'free'\n",
    "add_sfq = 'add_sfq' # sfq_only or add_sfq\n",
    "cat_type = 'all' # all or central_cosmos or xmm\n",
    "\n",
    "##########################################\n",
    "if prefix == 'pcat_' or prefix == 'pcat_z6B_':\n",
    "    z_keyname = 'Z_COMBINE'\n",
    "else:\n",
    "    z_keyname = 'Z_ML'\n",
    "\n",
    "detect_limit = 'nolimit'\n",
    "photoz_type_show = ''\n",
    "if cat_type == 'all':\n",
    "    cat_names = ['COSMOS_deep','DEEP_deep','ELAIS_deep']\n",
    "    # cat_names = ['COSMOS_deep','ELAIS_deep']\n",
    "    phot_configs = ['nonir']\n",
    "elif cat_type == 'xmm':\n",
    "    cat_names = ['XMM-LSS_deep']\n",
    "    phot_configs = ['noirac']\n",
    "elif cat_type == 'central_cosmos' or 'c20_matched':\n",
    "    cat_names = ['COSMOS_deep']\n",
    "    phot_configs = ['nonir']\n",
    "# phot_configs = ['nonirirac','nonir','noirac','allphot']"
   ]
  },
  {
   "cell_type": "code",
   "execution_count": 19,
   "metadata": {},
   "outputs": [
    {
     "name": "stderr",
     "output_type": "stream",
     "text": [
      "  0%|          | 167/1903725 [00:00<19:00, 1669.72it/s]"
     ]
    },
    {
     "name": "stdout",
     "output_type": "stream",
     "text": [
      "/Users/lejay/research/lephare_dev/my_code/graham_output_cats_new/pcat_COSMOS_deep_cat_out_nomaglimit_nonir_il_nz_prior_formass.fits\n",
      "COSMOS_deep nonir free\n",
      "fc_weighted\n"
     ]
    },
    {
     "name": "stderr",
     "output_type": "stream",
     "text": [
      "100%|██████████| 1903725/1903725 [02:58<00:00, 10664.55it/s]\n"
     ]
    },
    {
     "name": "stdout",
     "output_type": "stream",
     "text": [
      "1903725\n"
     ]
    },
    {
     "name": "stderr",
     "output_type": "stream",
     "text": [
      "  0%|          | 1153/1903725 [00:00<02:45, 11526.41it/s]"
     ]
    },
    {
     "name": "stdout",
     "output_type": "stream",
     "text": [
      "fm_weighted\n"
     ]
    },
    {
     "name": "stderr",
     "output_type": "stream",
     "text": [
      "100%|██████████| 1903725/1903725 [02:49<00:00, 11226.78it/s]\n"
     ]
    },
    {
     "name": "stdout",
     "output_type": "stream",
     "text": [
      "1903725\n"
     ]
    },
    {
     "name": "stderr",
     "output_type": "stream",
     "text": [
      "  0%|          | 1276/1903725 [00:00<02:29, 12751.10it/s]"
     ]
    },
    {
     "name": "stdout",
     "output_type": "stream",
     "text": [
      "balanced\n"
     ]
    },
    {
     "name": "stderr",
     "output_type": "stream",
     "text": [
      "100%|██████████| 1903725/1903725 [02:36<00:00, 12198.24it/s]\n"
     ]
    },
    {
     "name": "stdout",
     "output_type": "stream",
     "text": [
      "1903725\n"
     ]
    },
    {
     "name": "stderr",
     "output_type": "stream",
     "text": [
      "  0%|          | 728/1903725 [00:00<04:22, 7245.51it/s]"
     ]
    },
    {
     "name": "stdout",
     "output_type": "stream",
     "text": [
      "onebin_fc\n"
     ]
    },
    {
     "name": "stderr",
     "output_type": "stream",
     "text": [
      "100%|██████████| 1903725/1903725 [02:33<00:00, 12366.00it/s]\n"
     ]
    },
    {
     "name": "stdout",
     "output_type": "stream",
     "text": [
      "1903725\n"
     ]
    },
    {
     "name": "stderr",
     "output_type": "stream",
     "text": [
      "  0%|          | 1399/1903725 [00:00<02:16, 13983.71it/s]"
     ]
    },
    {
     "name": "stdout",
     "output_type": "stream",
     "text": [
      "onebin_fm\n"
     ]
    },
    {
     "name": "stderr",
     "output_type": "stream",
     "text": [
      "100%|██████████| 1903725/1903725 [02:40<00:00, 11895.02it/s]\n"
     ]
    },
    {
     "name": "stdout",
     "output_type": "stream",
     "text": [
      "1903725\n"
     ]
    },
    {
     "name": "stderr",
     "output_type": "stream",
     "text": [
      "  0%|          | 1220/1903725 [00:00<02:36, 12186.70it/s]"
     ]
    },
    {
     "name": "stdout",
     "output_type": "stream",
     "text": [
      "onebin_bal\n"
     ]
    },
    {
     "name": "stderr",
     "output_type": "stream",
     "text": [
      "100%|██████████| 1903725/1903725 [02:32<00:00, 12457.57it/s]\n"
     ]
    },
    {
     "name": "stdout",
     "output_type": "stream",
     "text": [
      "1903725\n"
     ]
    },
    {
     "name": "stderr",
     "output_type": "stream",
     "text": [
      "  0%|          | 401/1501110 [00:00<06:15, 3997.97it/s]"
     ]
    },
    {
     "name": "stdout",
     "output_type": "stream",
     "text": [
      "/Users/lejay/research/lephare_dev/my_code/graham_output_cats_new/pcat_DEEP_deep_cat_out_nomaglimit_nonir_il_nz_prior_formass.fits\n",
      "DEEP_deep nonir free\n",
      "fc_weighted\n"
     ]
    },
    {
     "name": "stderr",
     "output_type": "stream",
     "text": [
      "100%|██████████| 1501110/1501110 [02:11<00:00, 11458.27it/s]\n"
     ]
    },
    {
     "name": "stdout",
     "output_type": "stream",
     "text": [
      "1501110\n"
     ]
    },
    {
     "name": "stderr",
     "output_type": "stream",
     "text": [
      "  0%|          | 950/1501110 [00:00<02:38, 9490.69it/s]"
     ]
    },
    {
     "name": "stdout",
     "output_type": "stream",
     "text": [
      "fm_weighted\n"
     ]
    },
    {
     "name": "stderr",
     "output_type": "stream",
     "text": [
      "100%|██████████| 1501110/1501110 [02:13<00:00, 11203.20it/s]\n"
     ]
    },
    {
     "name": "stdout",
     "output_type": "stream",
     "text": [
      "1501110\n"
     ]
    },
    {
     "name": "stderr",
     "output_type": "stream",
     "text": [
      "  0%|          | 2728/1501110 [00:00<01:49, 13642.26it/s]"
     ]
    },
    {
     "name": "stdout",
     "output_type": "stream",
     "text": [
      "balanced\n"
     ]
    },
    {
     "name": "stderr",
     "output_type": "stream",
     "text": [
      "100%|██████████| 1501110/1501110 [02:07<00:00, 11754.61it/s]\n"
     ]
    },
    {
     "name": "stdout",
     "output_type": "stream",
     "text": [
      "1501110\n"
     ]
    },
    {
     "name": "stderr",
     "output_type": "stream",
     "text": [
      "  0%|          | 1568/1501110 [00:00<01:35, 15670.75it/s]"
     ]
    },
    {
     "name": "stdout",
     "output_type": "stream",
     "text": [
      "onebin_fc\n"
     ]
    },
    {
     "name": "stderr",
     "output_type": "stream",
     "text": [
      "100%|██████████| 1501110/1501110 [02:11<00:00, 11433.11it/s]\n"
     ]
    },
    {
     "name": "stdout",
     "output_type": "stream",
     "text": [
      "1501110\n"
     ]
    },
    {
     "name": "stderr",
     "output_type": "stream",
     "text": [
      "  0%|          | 1588/1501110 [00:00<01:34, 15877.63it/s]"
     ]
    },
    {
     "name": "stdout",
     "output_type": "stream",
     "text": [
      "onebin_fm\n"
     ]
    },
    {
     "name": "stderr",
     "output_type": "stream",
     "text": [
      "100%|██████████| 1501110/1501110 [02:08<00:00, 11704.40it/s]\n"
     ]
    },
    {
     "name": "stdout",
     "output_type": "stream",
     "text": [
      "1501110\n"
     ]
    },
    {
     "name": "stderr",
     "output_type": "stream",
     "text": [
      "  0%|          | 899/1501110 [00:00<02:46, 8985.23it/s]"
     ]
    },
    {
     "name": "stdout",
     "output_type": "stream",
     "text": [
      "onebin_bal\n"
     ]
    },
    {
     "name": "stderr",
     "output_type": "stream",
     "text": [
      "100%|██████████| 1501110/1501110 [02:06<00:00, 11860.39it/s]\n"
     ]
    },
    {
     "name": "stdout",
     "output_type": "stream",
     "text": [
      "1501110\n"
     ]
    },
    {
     "name": "stderr",
     "output_type": "stream",
     "text": [
      "  0%|          | 824/1492730 [00:00<03:01, 8233.16it/s]"
     ]
    },
    {
     "name": "stdout",
     "output_type": "stream",
     "text": [
      "/Users/lejay/research/lephare_dev/my_code/graham_output_cats_new/pcat_ELAIS_deep_cat_out_nomaglimit_nonir_il_nz_prior_formass.fits\n",
      "ELAIS_deep nonir free\n",
      "fc_weighted\n"
     ]
    },
    {
     "name": "stderr",
     "output_type": "stream",
     "text": [
      "100%|██████████| 1492730/1492730 [02:07<00:00, 11673.94it/s]\n"
     ]
    },
    {
     "name": "stdout",
     "output_type": "stream",
     "text": [
      "1492730\n"
     ]
    },
    {
     "name": "stderr",
     "output_type": "stream",
     "text": [
      "  0%|          | 2577/1492730 [00:00<01:56, 12840.77it/s]"
     ]
    },
    {
     "name": "stdout",
     "output_type": "stream",
     "text": [
      "fm_weighted\n"
     ]
    },
    {
     "name": "stderr",
     "output_type": "stream",
     "text": [
      "100%|██████████| 1492730/1492730 [02:28<00:00, 10073.21it/s]\n"
     ]
    },
    {
     "name": "stdout",
     "output_type": "stream",
     "text": [
      "1492730\n"
     ]
    },
    {
     "name": "stderr",
     "output_type": "stream",
     "text": [
      "  0%|          | 1012/1492730 [00:00<02:27, 10109.07it/s]"
     ]
    },
    {
     "name": "stdout",
     "output_type": "stream",
     "text": [
      "balanced\n"
     ]
    },
    {
     "name": "stderr",
     "output_type": "stream",
     "text": [
      "100%|██████████| 1492730/1492730 [02:11<00:00, 11393.23it/s]\n"
     ]
    },
    {
     "name": "stdout",
     "output_type": "stream",
     "text": [
      "1492730\n"
     ]
    },
    {
     "name": "stderr",
     "output_type": "stream",
     "text": [
      "  0%|          | 1340/1492730 [00:00<01:51, 13397.20it/s]"
     ]
    },
    {
     "name": "stdout",
     "output_type": "stream",
     "text": [
      "onebin_fc\n"
     ]
    },
    {
     "name": "stderr",
     "output_type": "stream",
     "text": [
      "100%|██████████| 1492730/1492730 [02:20<00:00, 10628.79it/s]\n"
     ]
    },
    {
     "name": "stdout",
     "output_type": "stream",
     "text": [
      "1492730\n"
     ]
    },
    {
     "name": "stderr",
     "output_type": "stream",
     "text": [
      "  0%|          | 1085/1492730 [00:00<02:17, 10846.75it/s]"
     ]
    },
    {
     "name": "stdout",
     "output_type": "stream",
     "text": [
      "onebin_fm\n"
     ]
    },
    {
     "name": "stderr",
     "output_type": "stream",
     "text": [
      "100%|██████████| 1492730/1492730 [02:01<00:00, 12302.73it/s]\n"
     ]
    },
    {
     "name": "stdout",
     "output_type": "stream",
     "text": [
      "1492730\n"
     ]
    },
    {
     "name": "stderr",
     "output_type": "stream",
     "text": [
      "  0%|          | 2755/1492730 [00:00<01:49, 13580.57it/s]"
     ]
    },
    {
     "name": "stdout",
     "output_type": "stream",
     "text": [
      "onebin_bal\n"
     ]
    },
    {
     "name": "stderr",
     "output_type": "stream",
     "text": [
      "100%|██████████| 1492730/1492730 [02:05<00:00, 11911.02it/s]\n"
     ]
    },
    {
     "name": "stdout",
     "output_type": "stream",
     "text": [
      "1492730\n"
     ]
    }
   ],
   "source": [
    "###########################################\n",
    "for cat_name in cat_names:\n",
    "    for phot_config in phot_configs:\n",
    "        if cat_type == 'all': # all or central_cosmos\n",
    "            if detect_limit == 'nolimit':\n",
    "                cat_full_name = graham_output_dir+prefix+cat_name+'_cat_out_nomaglimit_'+phot_config+'_il_nz_prior_formass.fits'  # all fields   \n",
    "            else:\n",
    "                cat_full_name = graham_output_dir+prefix+cat_name+'_cat_out_nomaglimit_'+phot_config+'_il_nz_prior_'+detect_limit+'_formass.fits'  # all fields   \n",
    "        elif cat_type == 'xmm':\n",
    "            cat_full_name = graham_output_dir+prefix+cat_name+'_cat_out_nomaglimit_'+phot_config+'_il_nz_prior_formass.fits'\n",
    "        elif cat_type == 'central_cosmos' and 'pcat' not in prefix:\n",
    "            cat_full_name = graham_output_dir+'cat_out_08squdeg_'+phot_config+'_il_nz_prior_'+detect_limit+'_formass.fits' # central cosmos\n",
    "        elif cat_type == 'central_cosmos' and 'pcat' in prefix:\n",
    "            cat_full_name = graham_output_dir+'pcat_cat_out_08squdeg_'+phot_config+'_il_nz_prior_'+detect_limit+'_formass.fits' # pcat central cosmos\n",
    "        elif cat_type == 'c20_matched':\n",
    "            cat_full_name = cat_mycosmos_name.replace('_sfq_added.fits','_c20added.fits')\n",
    "        else:\n",
    "            cat_full_name = '/Volumes/LejaySSD/pcat_lephare_masses/COSMOS_galaxies_240408_c20added.fits'\n",
    "            \n",
    "        cat = Table.read(cat_full_name)\n",
    "        # cat = cat[:100]\n",
    "        sfq_types = ['fc_weighted','fm_weighted','balanced','onebin_fc','onebin_fm','onebin_bal']\n",
    "        if add_sfq == 'sfq_only':\n",
    "            cat = cat['ID','RA','DEC','Z_COMBINE','MASS_MED','i','MAG_ABS_r','MAG_ABS_Ks','MAG_ABS_NUV']\n",
    "        \n",
    "        print(cat_full_name)\n",
    "        \n",
    "        #nuvrk\n",
    "        diagram_type = 'NUVrK'\n",
    "        print(cat_name, phot_config, sfq_fit_type)\n",
    "        \n",
    "        for sfq_type in sfq_types:\n",
    "            print(sfq_type)\n",
    "            sfq_nuvrk = []\n",
    "            for i in tqdm(range(len(cat))):\n",
    "                gal = cat[i]\n",
    "                \n",
    "                if abs(gal['MAG_ABS_r']) < 50. and abs(gal['MAG_ABS_Ks'])< 50. and abs(gal['MAG_ABS_NUV'])< 50.:\n",
    "                    nuvr = gal['MAG_ABS_NUV'] - gal['MAG_ABS_r']\n",
    "                    rk = gal['MAG_ABS_r'] - gal['MAG_ABS_Ks']\n",
    "                    \n",
    "                    if 'onebin' not in sfq_type:\n",
    "                        r_factors_base = np.array([1.1,1.1,1.0,0.9])\n",
    "                        if sfq_type == 'fc_weighted':\n",
    "                            r_factors = r_factors_base*2.5\n",
    "                        elif sfq_type == 'fm_weighted':\n",
    "                            r_factors = r_factors_base/2\n",
    "                        elif sfq_type == 'balanced':\n",
    "                            r_factors = r_factors_base\n",
    "                        else:\n",
    "                            raise NameError('wrong sfq type')\n",
    "                            \n",
    "                        if gal[z_keyname]>0.2 and gal[z_keyname]<=0.5:\n",
    "                            r = r_factors[0]\n",
    "                            best_boxes_nuvrk = np.load('best_params_4d_ssfr'+photoz_type_show+'_fcfm_'+str(r)+'_0.2_0.5.npy')\n",
    "                            delta_gv_nuvrk = nuvr - boundary_4d(rk,best_boxes_nuvrk[0],best_boxes_nuvrk[1],best_boxes_nuvrk[2],best_boxes_nuvrk[3],best_boxes_nuvrk[4],gal[z_keyname],gal['MASS_MED'])\n",
    "                            if delta_gv_nuvrk<0:\n",
    "                                sfq_nuvrk.append(1.) # sf\n",
    "                            else:\n",
    "                                sfq_nuvrk.append(0.) # q\n",
    "                                \n",
    "                        elif gal[z_keyname]>0.5 and gal[z_keyname]<=0.8:\n",
    "                            r = r_factors[1]\n",
    "                            best_boxes_nuvrk = np.load('best_params_4d_ssfr'+photoz_type_show+'_fcfm_'+str(r)+'_0.5_0.8.npy')\n",
    "                            delta_gv_nuvrk = nuvr - boundary_4d(rk,best_boxes_nuvrk[0],best_boxes_nuvrk[1],best_boxes_nuvrk[2],best_boxes_nuvrk[3],best_boxes_nuvrk[4],gal[z_keyname],gal['MASS_MED'])\n",
    "                            if delta_gv_nuvrk<0:\n",
    "                                sfq_nuvrk.append(1.) # sf\n",
    "                            else:\n",
    "                                sfq_nuvrk.append(0.) # q\n",
    "                                \n",
    "                        elif gal[z_keyname]>0.8 and gal[z_keyname]<=1.1:\n",
    "                            r = r_factors[2]\n",
    "                            best_boxes_nuvrk = np.load('best_params_4d_ssfr'+photoz_type_show+'_fcfm_'+str(r)+'_0.8_1.1.npy')\n",
    "                            delta_gv_nuvrk = nuvr - boundary_4d(rk,best_boxes_nuvrk[0],best_boxes_nuvrk[1],best_boxes_nuvrk[2],best_boxes_nuvrk[3],best_boxes_nuvrk[4],gal[z_keyname],gal['MASS_MED'])\n",
    "                            if delta_gv_nuvrk<0:\n",
    "                                sfq_nuvrk.append(1.) # sf\n",
    "                            else:\n",
    "                                sfq_nuvrk.append(0.) # q\n",
    "                        elif gal[z_keyname]>1.1 and gal[z_keyname]<=1.5:\n",
    "                            r = r_factors[3]\n",
    "                            best_boxes_nuvrk = np.load('best_params_4d_ssfr'+photoz_type_show+'_fcfm_'+str(r)+'_1.1_1.5.npy')\n",
    "                            delta_gv_nuvrk = nuvr - boundary_4d(rk,best_boxes_nuvrk[0],best_boxes_nuvrk[1],best_boxes_nuvrk[2],best_boxes_nuvrk[3],best_boxes_nuvrk[4],gal[z_keyname],gal['MASS_MED'])\n",
    "                            if delta_gv_nuvrk<0:\n",
    "                                sfq_nuvrk.append(1.) # sf\n",
    "                            else:\n",
    "                                sfq_nuvrk.append(0.) # q\n",
    "                        else:\n",
    "                            sfq_nuvrk.append(-99.0) \n",
    "                    else:\n",
    "                        if sfq_type == 'onebin_fc':\n",
    "                            r = 2.5\n",
    "                        elif sfq_type == 'onebin_fm':\n",
    "                            r = 1.0\n",
    "                        elif sfq_type == 'onebin_bal':\n",
    "                            r = 0.5\n",
    "                        else:\n",
    "                            r = 1.0\n",
    "                            \n",
    "                        if gal[z_keyname]>0.1 and gal[z_keyname]<=1.5:\n",
    "                            best_boxes_nuvrk = np.load('best_params_4d_ssfr'+photoz_type_show+'_fcfm_'+str(r)+'_z15.npy') # overall sfq boundary from 0.1-1.1 references\n",
    "                            delta_gv_nuvrk = nuvr - boundary_4d(rk,best_boxes_nuvrk[0],best_boxes_nuvrk[1],best_boxes_nuvrk[2],best_boxes_nuvrk[3],best_boxes_nuvrk[4],gal[z_keyname],gal['MASS_MED'])\n",
    "                            if delta_gv_nuvrk<0:\n",
    "                                sfq_nuvrk.append(1.) # sf\n",
    "                            else:\n",
    "                                sfq_nuvrk.append(0.) # q\n",
    "                        else:\n",
    "                            sfq_nuvrk.append(99.)\n",
    "    \n",
    "                else:\n",
    "                    sfq_nuvrk.append(99.)\n",
    "                \n",
    "            sfq_col_name = 'sfq_nuvrk_'+sfq_type\n",
    "            sfq_col_nuvrk = Column(name=sfq_col_name, data=sfq_nuvrk)  # 1=sf, 0=q\n",
    "            print(len(sfq_col_nuvrk))\n",
    "            if sfq_col_name in cat.keys():\n",
    "                cat.remove_column(sfq_col_name)\n",
    "            cat.add_column(sfq_col_nuvrk)\n",
    "            \n",
    "            # high mass flag (fake massive flag)\n",
    "            if 'XMM' not in cat_name:\n",
    "                cond_ch1 = ( (cat['MAG_AUTO_CH1_CORR'] > 0.) & (cat['MAG_AUTO_CH1_CORR'] < 50.) & (cat['MAGERR_AUTO_CH1_CORR'] < 4.0))\n",
    "                cond_ch2 = ( (cat['MAG_AUTO_CH2_CORR'] > 0.) & (cat['MAG_AUTO_CH2_CORR'] < 50.) & (cat['MAGERR_AUTO_CH1_CORR'] < 4.0))\n",
    "                flag_irac = cond_ch1.astype(int) + cond_ch2.astype(int)\n",
    "                \n",
    "                fake_massive_cuts = np.array([9.71,9.92,10.06,10.2])\n",
    "                fake_massive_flag1 = (cat['Z_COMBINE']>0.2) & (cat['Z_COMBINE']<=0.5) & (cat['MASS_MED']>fake_massive_cuts[0]) & (flag_irac==0)\n",
    "                fake_massive_flag2 = (cat['Z_COMBINE']>0.5) & (cat['Z_COMBINE']<=0.8) & (cat['MASS_MED']>fake_massive_cuts[1]) & (flag_irac==0)\n",
    "                fake_massive_flag3 = (cat['Z_COMBINE']>0.8) & (cat['Z_COMBINE']<=1.1) & (cat['MASS_MED']>fake_massive_cuts[2]) & (flag_irac==0)\n",
    "                fake_massive_flag4 = (cat['Z_COMBINE']>1.1) & (cat['Z_COMBINE']<=1.5) & (cat['MASS_MED']>fake_massive_cuts[3]) & (flag_irac==0)\n",
    "                fake_massive_flag = (fake_massive_flag1 + fake_massive_flag2 + fake_massive_flag3 + fake_massive_flag4).astype(int)\n",
    "                flag_mag = (cat['i']<23) & (cat['u']<25).astype(int)\n",
    "                fake_massive_flag = fake_massive_flag*flag_mag\n",
    "            else:\n",
    "                fake_massive_flag = np.zeros(len(cat))\n",
    "            \n",
    "        #### add fake massive flag\n",
    "        fake_massive_col = Column(data=fake_massive_flag, name='HIGH_MASS_FLAG')\n",
    "        if 'HIGH_MASS_FLAG' in cat.keys():\n",
    "            cat.remove_column('HIGH_MASS_FLAG')\n",
    "        cat.add_column(fake_massive_col)\n",
    "        \n",
    "        ### add morphological flag psf-cmodel mag\n",
    "        cond_morph = (cat['i_psf']-cat['i_cmodel']<-0.03*cat['i_cmodel']+23.7*0.03).astype(int)\n",
    "        morph_flag_col = Column(data=cond_morph, name='i_compact_flag')\n",
    "        if 'i_compact_flag' in cat.keys():\n",
    "            cat.remove_column('i_compact_flag')\n",
    "        cat.add_column(morph_flag_col)\n",
    "        \n",
    "        # write catalog\n",
    "        if add_sfq == 'sfq_only':\n",
    "            cat.write(cat_full_name.replace('.fits','_sfq_only.fits'),overwrite=True)\n",
    "        else:\n",
    "            cat.write(cat_full_name.replace('.fits','_sfq_added_z15.fits'),overwrite=True)\n"
   ]
  },
  {
   "cell_type": "markdown",
   "metadata": {},
   "source": []
  },
  {
   "cell_type": "code",
   "execution_count": null,
   "metadata": {},
   "outputs": [],
   "source": []
  },
  {
   "cell_type": "markdown",
   "metadata": {},
   "source": [
    "#### show gal count in each field"
   ]
  },
  {
   "cell_type": "code",
   "execution_count": 9,
   "metadata": {},
   "outputs": [],
   "source": [
    "cat_name_full = '/Users/lejay/research/lephare_dev/my_code/graham_output_cats_new/pcat_XMM-LSS_deep_cat_out_nomaglimit_noirac_il_nz_prior_formass.fits'\n",
    "cat = Table.read(cat_name_full)"
   ]
  },
  {
   "cell_type": "code",
   "execution_count": 21,
   "metadata": {},
   "outputs": [
    {
     "name": "stdout",
     "output_type": "stream",
     "text": [
      "[ 3.752e+00  2.358e+00  1.361e+00 -2.440e-01  2.389e-03]\n",
      "[ 3.678  2.845  1.036 -0.038  0.008]\n"
     ]
    }
   ],
   "source": [
    "best_boxes_nuvrk = np.load('best_params_4d_ssfr_fcfm_1.0.npy') # overall sfq boundary from 0.1-1.1 references\n",
    "print(best_boxes_nuvrk)\n",
    "\n",
    "best_boxes_nuvrk = np.load('best_params_4d_ssfr_fcfm_1.0_z15.npy') # overall sfq boundary from 0.1-1.1 references\n",
    "print(best_boxes_nuvrk)"
   ]
  },
  {
   "cell_type": "code",
   "execution_count": null,
   "metadata": {},
   "outputs": [],
   "source": []
  }
 ],
 "metadata": {
  "kernelspec": {
   "display_name": "Python 3",
   "language": "python",
   "name": "python3"
  },
  "language_info": {
   "codemirror_mode": {
    "name": "ipython",
    "version": 3
   },
   "file_extension": ".py",
   "mimetype": "text/x-python",
   "name": "python",
   "nbconvert_exporter": "python",
   "pygments_lexer": "ipython3",
   "version": "3.6.8"
  }
 },
 "nbformat": 4,
 "nbformat_minor": 4
}
